{
  "cells": [
    {
      "cell_type": "markdown",
      "metadata": {
        "id": "view-in-github",
        "colab_type": "text"
      },
      "source": [
        "<a href=\"https://colab.research.google.com/github/zahraDehghanian97/Apriori/blob/master/Maximal_frequent_itemset.ipynb\" target=\"_parent\"><img src=\"https://colab.research.google.com/assets/colab-badge.svg\" alt=\"Open In Colab\"/></a>"
      ]
    },
    {
      "cell_type": "markdown",
      "source": [
        "# generate dataset\n",
        "\n",
        "100 basket , 100 item\n",
        "each basket contains item which number is divisible to it."
      ],
      "metadata": {
        "id": "rMWhC9V1DBRJ"
      }
    },
    {
      "cell_type": "code",
      "execution_count": 14,
      "metadata": {
        "colab": {
          "base_uri": "https://localhost:8080/",
          "height": 424
        },
        "id": "CQayShGeC-bG",
        "outputId": "14792d49-4838-4c0e-8dc1-4be1b3a313ea"
      },
      "outputs": [
        {
          "output_type": "execute_result",
          "data": {
            "text/plain": [
              "                                         items\n",
              "0                                          [1]\n",
              "1                                       [1, 2]\n",
              "2                                       [1, 3]\n",
              "3                                    [1, 2, 4]\n",
              "4                                       [1, 5]\n",
              "..                                         ...\n",
              "95  [1, 2, 3, 4, 6, 8, 12, 16, 24, 32, 48, 96]\n",
              "96                                     [1, 97]\n",
              "97                       [1, 2, 7, 14, 49, 98]\n",
              "98                       [1, 3, 9, 11, 33, 99]\n",
              "99           [1, 2, 4, 5, 10, 20, 25, 50, 100]\n",
              "\n",
              "[100 rows x 1 columns]"
            ],
            "text/html": [
              "\n",
              "  <div id=\"df-52494220-8cf1-48f1-81bb-6136565c791c\">\n",
              "    <div class=\"colab-df-container\">\n",
              "      <div>\n",
              "<style scoped>\n",
              "    .dataframe tbody tr th:only-of-type {\n",
              "        vertical-align: middle;\n",
              "    }\n",
              "\n",
              "    .dataframe tbody tr th {\n",
              "        vertical-align: top;\n",
              "    }\n",
              "\n",
              "    .dataframe thead th {\n",
              "        text-align: right;\n",
              "    }\n",
              "</style>\n",
              "<table border=\"1\" class=\"dataframe\">\n",
              "  <thead>\n",
              "    <tr style=\"text-align: right;\">\n",
              "      <th></th>\n",
              "      <th>items</th>\n",
              "    </tr>\n",
              "  </thead>\n",
              "  <tbody>\n",
              "    <tr>\n",
              "      <th>0</th>\n",
              "      <td>[1]</td>\n",
              "    </tr>\n",
              "    <tr>\n",
              "      <th>1</th>\n",
              "      <td>[1, 2]</td>\n",
              "    </tr>\n",
              "    <tr>\n",
              "      <th>2</th>\n",
              "      <td>[1, 3]</td>\n",
              "    </tr>\n",
              "    <tr>\n",
              "      <th>3</th>\n",
              "      <td>[1, 2, 4]</td>\n",
              "    </tr>\n",
              "    <tr>\n",
              "      <th>4</th>\n",
              "      <td>[1, 5]</td>\n",
              "    </tr>\n",
              "    <tr>\n",
              "      <th>...</th>\n",
              "      <td>...</td>\n",
              "    </tr>\n",
              "    <tr>\n",
              "      <th>95</th>\n",
              "      <td>[1, 2, 3, 4, 6, 8, 12, 16, 24, 32, 48, 96]</td>\n",
              "    </tr>\n",
              "    <tr>\n",
              "      <th>96</th>\n",
              "      <td>[1, 97]</td>\n",
              "    </tr>\n",
              "    <tr>\n",
              "      <th>97</th>\n",
              "      <td>[1, 2, 7, 14, 49, 98]</td>\n",
              "    </tr>\n",
              "    <tr>\n",
              "      <th>98</th>\n",
              "      <td>[1, 3, 9, 11, 33, 99]</td>\n",
              "    </tr>\n",
              "    <tr>\n",
              "      <th>99</th>\n",
              "      <td>[1, 2, 4, 5, 10, 20, 25, 50, 100]</td>\n",
              "    </tr>\n",
              "  </tbody>\n",
              "</table>\n",
              "<p>100 rows × 1 columns</p>\n",
              "</div>\n",
              "      <button class=\"colab-df-convert\" onclick=\"convertToInteractive('df-52494220-8cf1-48f1-81bb-6136565c791c')\"\n",
              "              title=\"Convert this dataframe to an interactive table.\"\n",
              "              style=\"display:none;\">\n",
              "        \n",
              "  <svg xmlns=\"http://www.w3.org/2000/svg\" height=\"24px\"viewBox=\"0 0 24 24\"\n",
              "       width=\"24px\">\n",
              "    <path d=\"M0 0h24v24H0V0z\" fill=\"none\"/>\n",
              "    <path d=\"M18.56 5.44l.94 2.06.94-2.06 2.06-.94-2.06-.94-.94-2.06-.94 2.06-2.06.94zm-11 1L8.5 8.5l.94-2.06 2.06-.94-2.06-.94L8.5 2.5l-.94 2.06-2.06.94zm10 10l.94 2.06.94-2.06 2.06-.94-2.06-.94-.94-2.06-.94 2.06-2.06.94z\"/><path d=\"M17.41 7.96l-1.37-1.37c-.4-.4-.92-.59-1.43-.59-.52 0-1.04.2-1.43.59L10.3 9.45l-7.72 7.72c-.78.78-.78 2.05 0 2.83L4 21.41c.39.39.9.59 1.41.59.51 0 1.02-.2 1.41-.59l7.78-7.78 2.81-2.81c.8-.78.8-2.07 0-2.86zM5.41 20L4 18.59l7.72-7.72 1.47 1.35L5.41 20z\"/>\n",
              "  </svg>\n",
              "      </button>\n",
              "      \n",
              "  <style>\n",
              "    .colab-df-container {\n",
              "      display:flex;\n",
              "      flex-wrap:wrap;\n",
              "      gap: 12px;\n",
              "    }\n",
              "\n",
              "    .colab-df-convert {\n",
              "      background-color: #E8F0FE;\n",
              "      border: none;\n",
              "      border-radius: 50%;\n",
              "      cursor: pointer;\n",
              "      display: none;\n",
              "      fill: #1967D2;\n",
              "      height: 32px;\n",
              "      padding: 0 0 0 0;\n",
              "      width: 32px;\n",
              "    }\n",
              "\n",
              "    .colab-df-convert:hover {\n",
              "      background-color: #E2EBFA;\n",
              "      box-shadow: 0px 1px 2px rgba(60, 64, 67, 0.3), 0px 1px 3px 1px rgba(60, 64, 67, 0.15);\n",
              "      fill: #174EA6;\n",
              "    }\n",
              "\n",
              "    [theme=dark] .colab-df-convert {\n",
              "      background-color: #3B4455;\n",
              "      fill: #D2E3FC;\n",
              "    }\n",
              "\n",
              "    [theme=dark] .colab-df-convert:hover {\n",
              "      background-color: #434B5C;\n",
              "      box-shadow: 0px 1px 3px 1px rgba(0, 0, 0, 0.15);\n",
              "      filter: drop-shadow(0px 1px 2px rgba(0, 0, 0, 0.3));\n",
              "      fill: #FFFFFF;\n",
              "    }\n",
              "  </style>\n",
              "\n",
              "      <script>\n",
              "        const buttonEl =\n",
              "          document.querySelector('#df-52494220-8cf1-48f1-81bb-6136565c791c button.colab-df-convert');\n",
              "        buttonEl.style.display =\n",
              "          google.colab.kernel.accessAllowed ? 'block' : 'none';\n",
              "\n",
              "        async function convertToInteractive(key) {\n",
              "          const element = document.querySelector('#df-52494220-8cf1-48f1-81bb-6136565c791c');\n",
              "          const dataTable =\n",
              "            await google.colab.kernel.invokeFunction('convertToInteractive',\n",
              "                                                     [key], {});\n",
              "          if (!dataTable) return;\n",
              "\n",
              "          const docLinkHtml = 'Like what you see? Visit the ' +\n",
              "            '<a target=\"_blank\" href=https://colab.research.google.com/notebooks/data_table.ipynb>data table notebook</a>'\n",
              "            + ' to learn more about interactive tables.';\n",
              "          element.innerHTML = '';\n",
              "          dataTable['output_type'] = 'display_data';\n",
              "          await google.colab.output.renderOutput(dataTable, element);\n",
              "          const docLink = document.createElement('div');\n",
              "          docLink.innerHTML = docLinkHtml;\n",
              "          element.appendChild(docLink);\n",
              "        }\n",
              "      </script>\n",
              "    </div>\n",
              "  </div>\n",
              "  "
            ]
          },
          "metadata": {},
          "execution_count": 14
        }
      ],
      "source": [
        "import pandas as pd\n",
        "\n",
        "dataset = []\n",
        "for i in range(1,101):\n",
        "  temp = []\n",
        "  for j in range(1,i+1):\n",
        "    if i%j == 0 : temp.append(j)\n",
        "  dataset.append(temp)\n",
        "\n",
        "  data = {'tid' : range(1,101),\n",
        "    'items' : dataset}\n",
        "\n",
        "df = pd.DataFrame(data)\n"
      ]
    },
    {
      "cell_type": "code",
      "execution_count": 12,
      "metadata": {
        "id": "fWMfW2EpC-bI"
      },
      "outputs": [],
      "source": [
        "df_items = df['items']\n",
        "df_tid = df['tid']"
      ]
    },
    {
      "cell_type": "code",
      "execution_count": null,
      "metadata": {
        "id": "3-G_06oMC-bR",
        "outputId": "69078f6e-5d2f-4d4c-fd82-dc3e2d83a301"
      },
      "outputs": [
        {
          "data": {
            "text/html": [
              "<div>\n",
              "<style scoped>\n",
              "    .dataframe tbody tr th:only-of-type {\n",
              "        vertical-align: middle;\n",
              "    }\n",
              "\n",
              "    .dataframe tbody tr th {\n",
              "        vertical-align: top;\n",
              "    }\n",
              "\n",
              "    .dataframe thead th {\n",
              "        text-align: right;\n",
              "    }\n",
              "</style>\n",
              "<table border=\"1\" class=\"dataframe\">\n",
              "  <thead>\n",
              "    <tr style=\"text-align: right;\">\n",
              "      <th></th>\n",
              "      <th>items</th>\n",
              "    </tr>\n",
              "  </thead>\n",
              "  <tbody>\n",
              "    <tr>\n",
              "      <th>0</th>\n",
              "      <td>[1, 2]</td>\n",
              "    </tr>\n",
              "    <tr>\n",
              "      <th>1</th>\n",
              "      <td>[1, 2, 3]</td>\n",
              "    </tr>\n",
              "    <tr>\n",
              "      <th>2</th>\n",
              "      <td>[1, 2, 3, 4]</td>\n",
              "    </tr>\n",
              "    <tr>\n",
              "      <th>3</th>\n",
              "      <td>[1, 2, 5]</td>\n",
              "    </tr>\n",
              "    <tr>\n",
              "      <th>4</th>\n",
              "      <td>[1, 3, 5]</td>\n",
              "    </tr>\n",
              "    <tr>\n",
              "      <th>5</th>\n",
              "      <td>[4, 5]</td>\n",
              "    </tr>\n",
              "    <tr>\n",
              "      <th>6</th>\n",
              "      <td>[1, 2, 3, 5]</td>\n",
              "    </tr>\n",
              "    <tr>\n",
              "      <th>7</th>\n",
              "      <td>[1, 3]</td>\n",
              "    </tr>\n",
              "    <tr>\n",
              "      <th>8</th>\n",
              "      <td>[1, 4]</td>\n",
              "    </tr>\n",
              "    <tr>\n",
              "      <th>9</th>\n",
              "      <td>[2, 3, 4]</td>\n",
              "    </tr>\n",
              "  </tbody>\n",
              "</table>\n",
              "</div>"
            ],
            "text/plain": [
              "          items\n",
              "0        [1, 2]\n",
              "1     [1, 2, 3]\n",
              "2  [1, 2, 3, 4]\n",
              "3     [1, 2, 5]\n",
              "4     [1, 3, 5]\n",
              "5        [4, 5]\n",
              "6  [1, 2, 3, 5]\n",
              "7        [1, 3]\n",
              "8        [1, 4]\n",
              "9     [2, 3, 4]"
            ]
          },
          "execution_count": 67,
          "metadata": {},
          "output_type": "execute_result"
        }
      ],
      "source": [
        "df"
      ]
    },
    {
      "cell_type": "code",
      "execution_count": null,
      "metadata": {
        "scrolled": true,
        "id": "XBDeMmajC-bR",
        "outputId": "106fda38-8651-46eb-d29e-642325bb3903"
      },
      "outputs": [
        {
          "data": {
            "text/html": [
              "<div>\n",
              "<style scoped>\n",
              "    .dataframe tbody tr th:only-of-type {\n",
              "        vertical-align: middle;\n",
              "    }\n",
              "\n",
              "    .dataframe tbody tr th {\n",
              "        vertical-align: top;\n",
              "    }\n",
              "\n",
              "    .dataframe thead th {\n",
              "        text-align: right;\n",
              "    }\n",
              "</style>\n",
              "<table border=\"1\" class=\"dataframe\">\n",
              "  <thead>\n",
              "    <tr style=\"text-align: right;\">\n",
              "      <th></th>\n",
              "      <th>tid</th>\n",
              "      <th>items</th>\n",
              "    </tr>\n",
              "  </thead>\n",
              "  <tbody>\n",
              "    <tr>\n",
              "      <th>0</th>\n",
              "      <td>1</td>\n",
              "      <td>[1, 2]</td>\n",
              "    </tr>\n",
              "    <tr>\n",
              "      <th>1</th>\n",
              "      <td>2</td>\n",
              "      <td>[1, 2, 3]</td>\n",
              "    </tr>\n",
              "    <tr>\n",
              "      <th>2</th>\n",
              "      <td>3</td>\n",
              "      <td>[1, 2, 3, 4]</td>\n",
              "    </tr>\n",
              "    <tr>\n",
              "      <th>3</th>\n",
              "      <td>4</td>\n",
              "      <td>[1, 2, 5]</td>\n",
              "    </tr>\n",
              "    <tr>\n",
              "      <th>4</th>\n",
              "      <td>5</td>\n",
              "      <td>[1, 3, 5]</td>\n",
              "    </tr>\n",
              "    <tr>\n",
              "      <th>5</th>\n",
              "      <td>6</td>\n",
              "      <td>[4, 5]</td>\n",
              "    </tr>\n",
              "    <tr>\n",
              "      <th>6</th>\n",
              "      <td>7</td>\n",
              "      <td>[1, 2, 3, 5]</td>\n",
              "    </tr>\n",
              "    <tr>\n",
              "      <th>7</th>\n",
              "      <td>8</td>\n",
              "      <td>[1, 3]</td>\n",
              "    </tr>\n",
              "    <tr>\n",
              "      <th>8</th>\n",
              "      <td>9</td>\n",
              "      <td>[1, 4]</td>\n",
              "    </tr>\n",
              "    <tr>\n",
              "      <th>9</th>\n",
              "      <td>10</td>\n",
              "      <td>[2, 3, 4]</td>\n",
              "    </tr>\n",
              "  </tbody>\n",
              "</table>\n",
              "</div>"
            ],
            "text/plain": [
              "   tid         items\n",
              "0    1        [1, 2]\n",
              "1    2     [1, 2, 3]\n",
              "2    3  [1, 2, 3, 4]\n",
              "3    4     [1, 2, 5]\n",
              "4    5     [1, 3, 5]\n",
              "5    6        [4, 5]\n",
              "6    7  [1, 2, 3, 5]\n",
              "7    8        [1, 3]\n",
              "8    9        [1, 4]\n",
              "9   10     [2, 3, 4]"
            ]
          },
          "execution_count": 71,
          "metadata": {},
          "output_type": "execute_result"
        }
      ],
      "source": [
        "pd.concat([df_tid, df], axis=1)"
      ]
    },
    {
      "cell_type": "code",
      "execution_count": null,
      "metadata": {
        "scrolled": false,
        "id": "OB7hViJsC-bR",
        "outputId": "a3d16268-29d9-401f-bf7c-79f58060453a"
      },
      "outputs": [
        {
          "data": {
            "text/plain": [
              "[1,\n",
              " 2,\n",
              " 1,\n",
              " 2,\n",
              " 3,\n",
              " 1,\n",
              " 2,\n",
              " 3,\n",
              " 4,\n",
              " 1,\n",
              " 2,\n",
              " 5,\n",
              " 1,\n",
              " 3,\n",
              " 5,\n",
              " 4,\n",
              " 5,\n",
              " 1,\n",
              " 2,\n",
              " 3,\n",
              " 5,\n",
              " 1,\n",
              " 3,\n",
              " 1,\n",
              " 4,\n",
              " 2,\n",
              " 3,\n",
              " 4]"
            ]
          },
          "execution_count": 73,
          "metadata": {},
          "output_type": "execute_result"
        }
      ],
      "source": [
        "items = []\n",
        "for i in range(len(df)):\n",
        "    for j in range(len(df['items'][i])):\n",
        "        items.append(df['items'][i][j])\n",
        "items"
      ]
    },
    {
      "cell_type": "markdown",
      "metadata": {
        "id": "xSgkR9tNC-bS"
      },
      "source": [
        "<h2>Creating First Candidate (C1)</h2>"
      ]
    },
    {
      "cell_type": "code",
      "execution_count": null,
      "metadata": {
        "id": "o3cB8B6rC-bS",
        "outputId": "f6c46333-7867-4959-e0c2-1134145d090e"
      },
      "outputs": [
        {
          "data": {
            "text/plain": [
              "{1, 2, 3, 4, 5}"
            ]
          },
          "execution_count": 75,
          "metadata": {},
          "output_type": "execute_result"
        }
      ],
      "source": [
        "#Get unique element from list/array\n",
        "unique_item = set(items)\n",
        "unique_item\n",
        "#Convert it to list\n",
        "list_unique_item = list(unique_item)\n",
        "print(list_unique_item)\n",
        "count_unique = []\n",
        "for value in (list_unique_item):\n",
        "    count_unique.append((value, items.count(value)))\n",
        "print(count_unique)"
      ]
    },
    {
      "cell_type": "code",
      "execution_count": null,
      "metadata": {
        "id": "icp_uT5OC-bT",
        "outputId": "9574b1b7-7cbb-493f-e7f4-de6033c184fc"
      },
      "outputs": [
        {
          "data": {
            "text/html": [
              "<div>\n",
              "<style scoped>\n",
              "    .dataframe tbody tr th:only-of-type {\n",
              "        vertical-align: middle;\n",
              "    }\n",
              "\n",
              "    .dataframe tbody tr th {\n",
              "        vertical-align: top;\n",
              "    }\n",
              "\n",
              "    .dataframe thead th {\n",
              "        text-align: right;\n",
              "    }\n",
              "</style>\n",
              "<table border=\"1\" class=\"dataframe\">\n",
              "  <thead>\n",
              "    <tr style=\"text-align: right;\">\n",
              "      <th></th>\n",
              "      <th>itemset</th>\n",
              "      <th>sup</th>\n",
              "    </tr>\n",
              "  </thead>\n",
              "  <tbody>\n",
              "    <tr>\n",
              "      <th>0</th>\n",
              "      <td>1</td>\n",
              "      <td>8</td>\n",
              "    </tr>\n",
              "    <tr>\n",
              "      <th>1</th>\n",
              "      <td>2</td>\n",
              "      <td>6</td>\n",
              "    </tr>\n",
              "    <tr>\n",
              "      <th>2</th>\n",
              "      <td>3</td>\n",
              "      <td>6</td>\n",
              "    </tr>\n",
              "    <tr>\n",
              "      <th>3</th>\n",
              "      <td>4</td>\n",
              "      <td>4</td>\n",
              "    </tr>\n",
              "    <tr>\n",
              "      <th>4</th>\n",
              "      <td>5</td>\n",
              "      <td>4</td>\n",
              "    </tr>\n",
              "  </tbody>\n",
              "</table>\n",
              "</div>"
            ],
            "text/plain": [
              "   itemset  sup\n",
              "0        1    8\n",
              "1        2    6\n",
              "2        3    6\n",
              "3        4    4\n",
              "4        5    4"
            ]
          },
          "execution_count": 20,
          "metadata": {},
          "output_type": "execute_result"
        }
      ],
      "source": [
        "candidate1_df = pd.DataFrame(count_unique, columns=[\"itemset\", \"sup\"])\n",
        "candidate1_df"
      ]
    },
    {
      "cell_type": "markdown",
      "metadata": {
        "id": "RnXYDvHyC-bT"
      },
      "source": [
        "<h2>Creating first Frequent Itemset (L1)</h2>"
      ]
    },
    {
      "cell_type": "code",
      "execution_count": null,
      "metadata": {
        "id": "veEqhTYmC-bU"
      },
      "outputs": [],
      "source": [
        "def filter_sup(candidate):\n",
        "    minimum_sup = 5\n",
        "    filtering = candidate['sup'] > minimum_sup\n",
        "    freq = candidate[filtering]\n",
        "    return freq"
      ]
    },
    {
      "cell_type": "code",
      "execution_count": null,
      "metadata": {
        "id": "eaohHN8XC-bU"
      },
      "outputs": [],
      "source": [
        "# filter_sup = candidate1_df['sup'] > minimum_sup\n",
        "freq_itemset1 = filter_sup(candidate1_df)"
      ]
    },
    {
      "cell_type": "code",
      "execution_count": null,
      "metadata": {
        "id": "hAn09c_9C-bU",
        "outputId": "28e72c79-100d-47e7-d193-20b677e3e656"
      },
      "outputs": [
        {
          "data": {
            "text/html": [
              "<div>\n",
              "<style scoped>\n",
              "    .dataframe tbody tr th:only-of-type {\n",
              "        vertical-align: middle;\n",
              "    }\n",
              "\n",
              "    .dataframe tbody tr th {\n",
              "        vertical-align: top;\n",
              "    }\n",
              "\n",
              "    .dataframe thead th {\n",
              "        text-align: right;\n",
              "    }\n",
              "</style>\n",
              "<table border=\"1\" class=\"dataframe\">\n",
              "  <thead>\n",
              "    <tr style=\"text-align: right;\">\n",
              "      <th></th>\n",
              "      <th>itemset</th>\n",
              "      <th>sup</th>\n",
              "    </tr>\n",
              "  </thead>\n",
              "  <tbody>\n",
              "    <tr>\n",
              "      <th>0</th>\n",
              "      <td>1</td>\n",
              "      <td>8</td>\n",
              "    </tr>\n",
              "    <tr>\n",
              "      <th>1</th>\n",
              "      <td>2</td>\n",
              "      <td>6</td>\n",
              "    </tr>\n",
              "    <tr>\n",
              "      <th>2</th>\n",
              "      <td>3</td>\n",
              "      <td>6</td>\n",
              "    </tr>\n",
              "    <tr>\n",
              "      <th>3</th>\n",
              "      <td>4</td>\n",
              "      <td>4</td>\n",
              "    </tr>\n",
              "    <tr>\n",
              "      <th>4</th>\n",
              "      <td>5</td>\n",
              "      <td>4</td>\n",
              "    </tr>\n",
              "  </tbody>\n",
              "</table>\n",
              "</div>"
            ],
            "text/plain": [
              "   itemset  sup\n",
              "0        1    8\n",
              "1        2    6\n",
              "2        3    6\n",
              "3        4    4\n",
              "4        5    4"
            ]
          },
          "execution_count": 98,
          "metadata": {},
          "output_type": "execute_result"
        }
      ],
      "source": [
        "freq_itemset1"
      ]
    },
    {
      "cell_type": "markdown",
      "metadata": {
        "id": "ByDjcq31C-bV"
      },
      "source": [
        "## Create the Second Candidate (C2)\n",
        "* Self join"
      ]
    },
    {
      "cell_type": "code",
      "execution_count": null,
      "metadata": {
        "id": "aK-x2UCVC-bV"
      },
      "outputs": [],
      "source": [
        "import numpy\n",
        "def self_join(prev_freq_itemset):\n",
        "    self_join_candidate = []\n",
        "    for i in range(len(prev_freq_itemset['itemset'])):\n",
        "        for j in range((i+1), len(prev_freq_itemset['itemset'])):\n",
        "            itemset_i = prev_freq_itemset['itemset'][i]\n",
        "            itemset_j = prev_freq_itemset['itemset'][j]\n",
        "            if(type(itemset_i) == numpy.int64 and type(itemset_j) == numpy.int64):\n",
        "                itemset_i = {itemset_i}\n",
        "                itemset_j = {itemset_j}\n",
        "            union_candidate = itemset_i.union(itemset_j)\n",
        "\n",
        "            if union_candidate not in self_join_candidate:\n",
        "                self_join_candidate.append(union_candidate)\n",
        "    return self_join_candidate"
      ]
    },
    {
      "cell_type": "code",
      "execution_count": null,
      "metadata": {
        "scrolled": true,
        "id": "pAgo3I-2C-bV"
      },
      "outputs": [],
      "source": [
        "candidate2_list = self_join(freq_itemset1)"
      ]
    },
    {
      "cell_type": "code",
      "execution_count": null,
      "metadata": {
        "id": "MPX3_Eo0C-bW",
        "outputId": "d13f5d9e-eca6-4ba7-a7e0-49c92ce35a44"
      },
      "outputs": [
        {
          "data": {
            "text/plain": [
              "[{1, 2},\n",
              " {1, 3},\n",
              " {1, 4},\n",
              " {1, 5},\n",
              " {2, 3},\n",
              " {2, 4},\n",
              " {2, 5},\n",
              " {3, 4},\n",
              " {3, 5},\n",
              " {4, 5}]"
            ]
          },
          "execution_count": 26,
          "metadata": {},
          "output_type": "execute_result"
        }
      ],
      "source": [
        "candidate2_list"
      ]
    },
    {
      "cell_type": "code",
      "execution_count": null,
      "metadata": {
        "id": "hP7QVPJTC-bW",
        "outputId": "be49b716-b3b7-47b2-8c03-75cdc13a98a5"
      },
      "outputs": [
        {
          "data": {
            "text/plain": [
              "[({1, 2}, 0),\n",
              " ({1, 3}, 0),\n",
              " ({1, 4}, 0),\n",
              " ({1, 5}, 0),\n",
              " ({2, 3}, 0),\n",
              " ({2, 4}, 0),\n",
              " ({2, 5}, 0),\n",
              " ({3, 4}, 0),\n",
              " ({3, 5}, 0),\n",
              " ({4, 5}, 0)]"
            ]
          },
          "execution_count": 27,
          "metadata": {},
          "output_type": "execute_result"
        }
      ],
      "source": [
        "count_candidate2 = []\n",
        "\n",
        "#Set the Initial value of Second Count Candidate (C2)\n",
        "for i in range(len(candidate2_list)):\n",
        "    count_candidate2.append((candidate2_list[i], 0))\n",
        "\n",
        "count_candidate2"
      ]
    },
    {
      "cell_type": "code",
      "execution_count": null,
      "metadata": {
        "id": "D28rJlfaC-bX"
      },
      "outputs": [],
      "source": [
        "initial_df_candidate = pd.DataFrame(count_candidate2, columns=['itemset', 'sup'])"
      ]
    },
    {
      "cell_type": "code",
      "execution_count": null,
      "metadata": {
        "id": "jk-i__oZC-bX",
        "outputId": "73e0f611-2ed8-4262-9ca4-60e893629e5a"
      },
      "outputs": [
        {
          "data": {
            "text/html": [
              "<div>\n",
              "<style scoped>\n",
              "    .dataframe tbody tr th:only-of-type {\n",
              "        vertical-align: middle;\n",
              "    }\n",
              "\n",
              "    .dataframe tbody tr th {\n",
              "        vertical-align: top;\n",
              "    }\n",
              "\n",
              "    .dataframe thead th {\n",
              "        text-align: right;\n",
              "    }\n",
              "</style>\n",
              "<table border=\"1\" class=\"dataframe\">\n",
              "  <thead>\n",
              "    <tr style=\"text-align: right;\">\n",
              "      <th></th>\n",
              "      <th>itemset</th>\n",
              "      <th>sup</th>\n",
              "    </tr>\n",
              "  </thead>\n",
              "  <tbody>\n",
              "    <tr>\n",
              "      <th>0</th>\n",
              "      <td>{1, 2}</td>\n",
              "      <td>0</td>\n",
              "    </tr>\n",
              "    <tr>\n",
              "      <th>1</th>\n",
              "      <td>{1, 3}</td>\n",
              "      <td>0</td>\n",
              "    </tr>\n",
              "    <tr>\n",
              "      <th>2</th>\n",
              "      <td>{1, 4}</td>\n",
              "      <td>0</td>\n",
              "    </tr>\n",
              "    <tr>\n",
              "      <th>3</th>\n",
              "      <td>{1, 5}</td>\n",
              "      <td>0</td>\n",
              "    </tr>\n",
              "    <tr>\n",
              "      <th>4</th>\n",
              "      <td>{2, 3}</td>\n",
              "      <td>0</td>\n",
              "    </tr>\n",
              "    <tr>\n",
              "      <th>5</th>\n",
              "      <td>{2, 4}</td>\n",
              "      <td>0</td>\n",
              "    </tr>\n",
              "    <tr>\n",
              "      <th>6</th>\n",
              "      <td>{2, 5}</td>\n",
              "      <td>0</td>\n",
              "    </tr>\n",
              "    <tr>\n",
              "      <th>7</th>\n",
              "      <td>{3, 4}</td>\n",
              "      <td>0</td>\n",
              "    </tr>\n",
              "    <tr>\n",
              "      <th>8</th>\n",
              "      <td>{3, 5}</td>\n",
              "      <td>0</td>\n",
              "    </tr>\n",
              "    <tr>\n",
              "      <th>9</th>\n",
              "      <td>{4, 5}</td>\n",
              "      <td>0</td>\n",
              "    </tr>\n",
              "  </tbody>\n",
              "</table>\n",
              "</div>"
            ],
            "text/plain": [
              "  itemset  sup\n",
              "0  {1, 2}    0\n",
              "1  {1, 3}    0\n",
              "2  {1, 4}    0\n",
              "3  {1, 5}    0\n",
              "4  {2, 3}    0\n",
              "5  {2, 4}    0\n",
              "6  {2, 5}    0\n",
              "7  {3, 4}    0\n",
              "8  {3, 5}    0\n",
              "9  {4, 5}    0"
            ]
          },
          "execution_count": 29,
          "metadata": {},
          "output_type": "execute_result"
        }
      ],
      "source": [
        "initial_df_candidate"
      ]
    },
    {
      "cell_type": "code",
      "execution_count": null,
      "metadata": {
        "id": "sfITRGRTC-bX",
        "outputId": "2bfa1318-902a-4bad-b49f-7b544979a2bc"
      },
      "outputs": [
        {
          "data": {
            "text/html": [
              "<div>\n",
              "<style scoped>\n",
              "    .dataframe tbody tr th:only-of-type {\n",
              "        vertical-align: middle;\n",
              "    }\n",
              "\n",
              "    .dataframe tbody tr th {\n",
              "        vertical-align: top;\n",
              "    }\n",
              "\n",
              "    .dataframe thead th {\n",
              "        text-align: right;\n",
              "    }\n",
              "</style>\n",
              "<table border=\"1\" class=\"dataframe\">\n",
              "  <thead>\n",
              "    <tr style=\"text-align: right;\">\n",
              "      <th></th>\n",
              "      <th>items</th>\n",
              "    </tr>\n",
              "  </thead>\n",
              "  <tbody>\n",
              "    <tr>\n",
              "      <th>0</th>\n",
              "      <td>[1, 2]</td>\n",
              "    </tr>\n",
              "    <tr>\n",
              "      <th>1</th>\n",
              "      <td>[1, 2, 3]</td>\n",
              "    </tr>\n",
              "    <tr>\n",
              "      <th>2</th>\n",
              "      <td>[1, 2, 3, 4]</td>\n",
              "    </tr>\n",
              "    <tr>\n",
              "      <th>3</th>\n",
              "      <td>[1, 2, 5]</td>\n",
              "    </tr>\n",
              "    <tr>\n",
              "      <th>4</th>\n",
              "      <td>[1, 3, 5]</td>\n",
              "    </tr>\n",
              "    <tr>\n",
              "      <th>5</th>\n",
              "      <td>[4, 5]</td>\n",
              "    </tr>\n",
              "    <tr>\n",
              "      <th>6</th>\n",
              "      <td>[1, 2, 3, 5]</td>\n",
              "    </tr>\n",
              "    <tr>\n",
              "      <th>7</th>\n",
              "      <td>[1, 3]</td>\n",
              "    </tr>\n",
              "    <tr>\n",
              "      <th>8</th>\n",
              "      <td>[1, 4]</td>\n",
              "    </tr>\n",
              "    <tr>\n",
              "      <th>9</th>\n",
              "      <td>[2, 3, 4]</td>\n",
              "    </tr>\n",
              "  </tbody>\n",
              "</table>\n",
              "</div>"
            ],
            "text/plain": [
              "          items\n",
              "0        [1, 2]\n",
              "1     [1, 2, 3]\n",
              "2  [1, 2, 3, 4]\n",
              "3     [1, 2, 5]\n",
              "4     [1, 3, 5]\n",
              "5        [4, 5]\n",
              "6  [1, 2, 3, 5]\n",
              "7        [1, 3]\n",
              "8        [1, 4]\n",
              "9     [2, 3, 4]"
            ]
          },
          "execution_count": 30,
          "metadata": {},
          "output_type": "execute_result"
        }
      ],
      "source": [
        "#Let's see what's inside df\n",
        "df"
      ]
    },
    {
      "cell_type": "code",
      "execution_count": null,
      "metadata": {
        "id": "3khjyRGlC-bY"
      },
      "outputs": [],
      "source": [
        "#Let's add it with 1 whenever we found every candidate is a subset from Database D\n",
        "\n",
        "\n",
        "def count_support(database_dataframe, prev_candidate_list):\n",
        "    initial_df_candidate['sup'] = 0 #set All value into 0 only for initial value for consistency value when running this cell everytime.\n",
        "    count_prev_candidate = []\n",
        "\n",
        "    #Set the Initial value of Previous Candidate\n",
        "    for i in range(len(prev_candidate_list)):\n",
        "        count_prev_candidate.append((prev_candidate_list[i], 0))\n",
        "    \n",
        "    df_candidate = pd.DataFrame(count_prev_candidate, columns=['itemset', 'sup'])\n",
        "    print('Database D dataframe\\n', database_dataframe)\n",
        "    print('(Initial) Dataframe from Candidate with All zeros sup\\n', df_candidate)\n",
        "    \n",
        "    for i in range(len(database_dataframe)):\n",
        "        for j in range(len(count_prev_candidate)):\n",
        "            #using issubset() function to check whether every itemset is a subset of Database or not\n",
        "            if (df_candidate['itemset'][j]).issubset(set(database_dataframe['items'][i])): \n",
        "                df_candidate.loc[j, 'sup'] += 1\n",
        "            \n",
        "    return df_candidate"
      ]
    },
    {
      "cell_type": "code",
      "execution_count": null,
      "metadata": {
        "id": "ruCxQdIMC-bY",
        "outputId": "08848801-6756-487e-a6d2-fdd1e97f06d0"
      },
      "outputs": [
        {
          "name": "stdout",
          "output_type": "stream",
          "text": [
            "Database D dataframe\n",
            "           items\n",
            "0        [1, 2]\n",
            "1     [1, 2, 3]\n",
            "2  [1, 2, 3, 4]\n",
            "3     [1, 2, 5]\n",
            "4     [1, 3, 5]\n",
            "5        [4, 5]\n",
            "6  [1, 2, 3, 5]\n",
            "7        [1, 3]\n",
            "8        [1, 4]\n",
            "9     [2, 3, 4]\n",
            "(Initial) Dataframe from Candidate with All zeros sup\n",
            "   itemset  sup\n",
            "0  {1, 2}    0\n",
            "1  {1, 3}    0\n",
            "2  {1, 4}    0\n",
            "3  {1, 5}    0\n",
            "4  {2, 3}    0\n",
            "5  {2, 4}    0\n",
            "6  {2, 5}    0\n",
            "7  {3, 4}    0\n",
            "8  {3, 5}    0\n",
            "9  {4, 5}    0\n"
          ]
        }
      ],
      "source": [
        "count_candidate2_df = count_support(df, candidate2_list)"
      ]
    },
    {
      "cell_type": "code",
      "execution_count": null,
      "metadata": {
        "id": "uMDxKhmVC-bY",
        "outputId": "a480b65a-3408-42d0-d3a5-e2fd3e157d2d"
      },
      "outputs": [
        {
          "data": {
            "text/html": [
              "<div>\n",
              "<style scoped>\n",
              "    .dataframe tbody tr th:only-of-type {\n",
              "        vertical-align: middle;\n",
              "    }\n",
              "\n",
              "    .dataframe tbody tr th {\n",
              "        vertical-align: top;\n",
              "    }\n",
              "\n",
              "    .dataframe thead th {\n",
              "        text-align: right;\n",
              "    }\n",
              "</style>\n",
              "<table border=\"1\" class=\"dataframe\">\n",
              "  <thead>\n",
              "    <tr style=\"text-align: right;\">\n",
              "      <th></th>\n",
              "      <th>itemset</th>\n",
              "      <th>sup</th>\n",
              "    </tr>\n",
              "  </thead>\n",
              "  <tbody>\n",
              "    <tr>\n",
              "      <th>0</th>\n",
              "      <td>{1, 2}</td>\n",
              "      <td>5</td>\n",
              "    </tr>\n",
              "    <tr>\n",
              "      <th>1</th>\n",
              "      <td>{1, 3}</td>\n",
              "      <td>5</td>\n",
              "    </tr>\n",
              "    <tr>\n",
              "      <th>2</th>\n",
              "      <td>{1, 4}</td>\n",
              "      <td>2</td>\n",
              "    </tr>\n",
              "    <tr>\n",
              "      <th>3</th>\n",
              "      <td>{1, 5}</td>\n",
              "      <td>3</td>\n",
              "    </tr>\n",
              "    <tr>\n",
              "      <th>4</th>\n",
              "      <td>{2, 3}</td>\n",
              "      <td>4</td>\n",
              "    </tr>\n",
              "    <tr>\n",
              "      <th>5</th>\n",
              "      <td>{2, 4}</td>\n",
              "      <td>2</td>\n",
              "    </tr>\n",
              "    <tr>\n",
              "      <th>6</th>\n",
              "      <td>{2, 5}</td>\n",
              "      <td>2</td>\n",
              "    </tr>\n",
              "    <tr>\n",
              "      <th>7</th>\n",
              "      <td>{3, 4}</td>\n",
              "      <td>2</td>\n",
              "    </tr>\n",
              "    <tr>\n",
              "      <th>8</th>\n",
              "      <td>{3, 5}</td>\n",
              "      <td>2</td>\n",
              "    </tr>\n",
              "    <tr>\n",
              "      <th>9</th>\n",
              "      <td>{4, 5}</td>\n",
              "      <td>1</td>\n",
              "    </tr>\n",
              "  </tbody>\n",
              "</table>\n",
              "</div>"
            ],
            "text/plain": [
              "  itemset  sup\n",
              "0  {1, 2}    5\n",
              "1  {1, 3}    5\n",
              "2  {1, 4}    2\n",
              "3  {1, 5}    3\n",
              "4  {2, 3}    4\n",
              "5  {2, 4}    2\n",
              "6  {2, 5}    2\n",
              "7  {3, 4}    2\n",
              "8  {3, 5}    2\n",
              "9  {4, 5}    1"
            ]
          },
          "execution_count": 33,
          "metadata": {},
          "output_type": "execute_result"
        }
      ],
      "source": [
        "count_candidate2_df"
      ]
    },
    {
      "cell_type": "markdown",
      "metadata": {
        "id": "DZM11EqgC-bZ"
      },
      "source": []
    },
    {
      "cell_type": "markdown",
      "metadata": {
        "id": "Ll5JvRSmC-bZ"
      },
      "source": [
        "# Creating Second Frequent Itemset (L2)"
      ]
    },
    {
      "cell_type": "code",
      "execution_count": null,
      "metadata": {
        "id": "xDK8ml3_C-bZ"
      },
      "outputs": [],
      "source": [
        "#Filter the itemset based on minimum support (occurences of items)\n",
        "freq_itemset2 = filter_sup(count_candidate2_df)"
      ]
    },
    {
      "cell_type": "code",
      "execution_count": null,
      "metadata": {
        "id": "E0O5Nvj4C-ba",
        "outputId": "c99ba2c5-eb18-4856-993c-6c8ae01748df"
      },
      "outputs": [
        {
          "data": {
            "text/html": [
              "<div>\n",
              "<style scoped>\n",
              "    .dataframe tbody tr th:only-of-type {\n",
              "        vertical-align: middle;\n",
              "    }\n",
              "\n",
              "    .dataframe tbody tr th {\n",
              "        vertical-align: top;\n",
              "    }\n",
              "\n",
              "    .dataframe thead th {\n",
              "        text-align: right;\n",
              "    }\n",
              "</style>\n",
              "<table border=\"1\" class=\"dataframe\">\n",
              "  <thead>\n",
              "    <tr style=\"text-align: right;\">\n",
              "      <th></th>\n",
              "      <th>itemset</th>\n",
              "      <th>sup</th>\n",
              "    </tr>\n",
              "  </thead>\n",
              "  <tbody>\n",
              "    <tr>\n",
              "      <th>0</th>\n",
              "      <td>{1, 2}</td>\n",
              "      <td>5</td>\n",
              "    </tr>\n",
              "    <tr>\n",
              "      <th>1</th>\n",
              "      <td>{1, 3}</td>\n",
              "      <td>5</td>\n",
              "    </tr>\n",
              "    <tr>\n",
              "      <th>3</th>\n",
              "      <td>{1, 5}</td>\n",
              "      <td>3</td>\n",
              "    </tr>\n",
              "    <tr>\n",
              "      <th>4</th>\n",
              "      <td>{2, 3}</td>\n",
              "      <td>4</td>\n",
              "    </tr>\n",
              "  </tbody>\n",
              "</table>\n",
              "</div>"
            ],
            "text/plain": [
              "  itemset  sup\n",
              "0  {1, 2}    5\n",
              "1  {1, 3}    5\n",
              "3  {1, 5}    3\n",
              "4  {2, 3}    4"
            ]
          },
          "execution_count": 92,
          "metadata": {},
          "output_type": "execute_result"
        }
      ],
      "source": [
        "freq_itemset2"
      ]
    },
    {
      "cell_type": "code",
      "execution_count": null,
      "metadata": {
        "id": "9B69JkxmC-ba"
      },
      "outputs": [],
      "source": [
        "freq_itemset2_reset = freq_itemset2.reset_index(drop=True)"
      ]
    },
    {
      "cell_type": "code",
      "execution_count": null,
      "metadata": {
        "id": "9dwJiHLbC-ba",
        "outputId": "b92e4b43-b75e-4184-9508-33a4adbbb880"
      },
      "outputs": [
        {
          "data": {
            "text/html": [
              "<div>\n",
              "<style scoped>\n",
              "    .dataframe tbody tr th:only-of-type {\n",
              "        vertical-align: middle;\n",
              "    }\n",
              "\n",
              "    .dataframe tbody tr th {\n",
              "        vertical-align: top;\n",
              "    }\n",
              "\n",
              "    .dataframe thead th {\n",
              "        text-align: right;\n",
              "    }\n",
              "</style>\n",
              "<table border=\"1\" class=\"dataframe\">\n",
              "  <thead>\n",
              "    <tr style=\"text-align: right;\">\n",
              "      <th></th>\n",
              "      <th>itemset</th>\n",
              "      <th>sup</th>\n",
              "    </tr>\n",
              "  </thead>\n",
              "  <tbody>\n",
              "    <tr>\n",
              "      <th>0</th>\n",
              "      <td>{1, 2}</td>\n",
              "      <td>5</td>\n",
              "    </tr>\n",
              "    <tr>\n",
              "      <th>1</th>\n",
              "      <td>{1, 3}</td>\n",
              "      <td>5</td>\n",
              "    </tr>\n",
              "    <tr>\n",
              "      <th>2</th>\n",
              "      <td>{1, 5}</td>\n",
              "      <td>3</td>\n",
              "    </tr>\n",
              "    <tr>\n",
              "      <th>3</th>\n",
              "      <td>{2, 3}</td>\n",
              "      <td>4</td>\n",
              "    </tr>\n",
              "  </tbody>\n",
              "</table>\n",
              "</div>"
            ],
            "text/plain": [
              "  itemset  sup\n",
              "0  {1, 2}    5\n",
              "1  {1, 3}    5\n",
              "2  {1, 5}    3\n",
              "3  {2, 3}    4"
            ]
          },
          "execution_count": 37,
          "metadata": {},
          "output_type": "execute_result"
        }
      ],
      "source": [
        "#We need to reset the index, because need to access the index later.\n",
        "freq_itemset2_reset"
      ]
    },
    {
      "cell_type": "markdown",
      "metadata": {
        "id": "D2FdtfKrC-bb"
      },
      "source": [
        "## Creating the Third Candidate (C3) - Using the Candidate Forming Technique\n",
        "* Self join\n",
        "* Pruning"
      ]
    },
    {
      "cell_type": "markdown",
      "metadata": {
        "id": "Ps26-3rOC-bb"
      },
      "source": [
        "## Self Join"
      ]
    },
    {
      "cell_type": "code",
      "execution_count": null,
      "metadata": {
        "id": "UdhYNvFlC-bb",
        "outputId": "f90389ee-d4e2-43a8-93ff-7bde24307ef7"
      },
      "outputs": [
        {
          "name": "stdout",
          "output_type": "stream",
          "text": [
            "  itemset  sup\n",
            "0  {1, 2}    5\n",
            "1  {1, 3}    5\n",
            "2  {1, 5}    3\n",
            "3  {2, 3}    4\n",
            "self join result\n",
            "[{1, 2, 3}, {1, 2, 5}, {1, 3, 5}, {1, 2, 3, 5}]\n"
          ]
        }
      ],
      "source": [
        "print(freq_itemset2_reset)\n",
        "self_join_result = self_join(freq_itemset2_reset)\n",
        "print('self join result')\n",
        "print(self_join_result)"
      ]
    },
    {
      "cell_type": "markdown",
      "metadata": {
        "id": "3ZCLSmABC-bc"
      },
      "source": [
        "## Pruning"
      ]
    },
    {
      "cell_type": "code",
      "execution_count": null,
      "metadata": {
        "id": "1Cu3ZAlEC-bc"
      },
      "outputs": [],
      "source": [
        "def get_subset(candidate):\n",
        "    temp = []\n",
        "    final = []\n",
        "    for i in range(len(candidate)):\n",
        "        for j in range(len(candidate)):\n",
        "            if i != j:\n",
        "                temp.append(candidate[j])\n",
        "        temp_set = set(temp)\n",
        "        final.append(temp_set)\n",
        "        temp.clear()\n",
        "    print('Subset from {} : {}'.format(candidate, final))\n",
        "    return final\n",
        "\n",
        "def pruning(candidate_set, prev_freq_itemset):\n",
        "    print('Candidate set', candidate_set)\n",
        "    temp = []\n",
        "    \n",
        "    for idx, value in enumerate(candidate_set):\n",
        "        list_candidate = list(value)\n",
        "        temp_candidate = (get_subset(list_candidate))\n",
        "        \n",
        "        for temp_item in temp_candidate:\n",
        "            print('Temp item', temp_item)\n",
        "            check = temp_item == prev_freq_itemset['itemset']\n",
        "            print('\\nCheck candidate from Previous Frequent Itemset\\n', check)\n",
        "            \n",
        "            if any(check) == False:\n",
        "                print(any(check))\n",
        "                print('Val', value)\n",
        "            else:\n",
        "                print('\\nAll of {} subset contained in \\n{}'.format(candidate_set, prev_freq_itemset))\n",
        "                if value not in temp:\n",
        "                    temp.append(value)\n",
        "                \n",
        "    return temp"
      ]
    },
    {
      "cell_type": "code",
      "execution_count": null,
      "metadata": {
        "id": "OnlppmH7C-bc",
        "outputId": "4bd95be7-c364-4452-b6e4-db8500fdb7e5"
      },
      "outputs": [
        {
          "data": {
            "text/html": [
              "<div>\n",
              "<style scoped>\n",
              "    .dataframe tbody tr th:only-of-type {\n",
              "        vertical-align: middle;\n",
              "    }\n",
              "\n",
              "    .dataframe tbody tr th {\n",
              "        vertical-align: top;\n",
              "    }\n",
              "\n",
              "    .dataframe thead th {\n",
              "        text-align: right;\n",
              "    }\n",
              "</style>\n",
              "<table border=\"1\" class=\"dataframe\">\n",
              "  <thead>\n",
              "    <tr style=\"text-align: right;\">\n",
              "      <th></th>\n",
              "      <th>itemset</th>\n",
              "      <th>sup</th>\n",
              "    </tr>\n",
              "  </thead>\n",
              "  <tbody>\n",
              "    <tr>\n",
              "      <th>0</th>\n",
              "      <td>{1, 2}</td>\n",
              "      <td>5</td>\n",
              "    </tr>\n",
              "    <tr>\n",
              "      <th>1</th>\n",
              "      <td>{1, 3}</td>\n",
              "      <td>5</td>\n",
              "    </tr>\n",
              "    <tr>\n",
              "      <th>2</th>\n",
              "      <td>{1, 5}</td>\n",
              "      <td>3</td>\n",
              "    </tr>\n",
              "    <tr>\n",
              "      <th>3</th>\n",
              "      <td>{2, 3}</td>\n",
              "      <td>4</td>\n",
              "    </tr>\n",
              "  </tbody>\n",
              "</table>\n",
              "</div>"
            ],
            "text/plain": [
              "  itemset  sup\n",
              "0  {1, 2}    5\n",
              "1  {1, 3}    5\n",
              "2  {1, 5}    3\n",
              "3  {2, 3}    4"
            ]
          },
          "execution_count": 40,
          "metadata": {},
          "output_type": "execute_result"
        }
      ],
      "source": [
        "freq_itemset2_reset"
      ]
    },
    {
      "cell_type": "code",
      "execution_count": null,
      "metadata": {
        "id": "J93NwXrYC-bd"
      },
      "outputs": [],
      "source": [
        "subset = [{2, 3}, {1, 3}, {1, 2}]"
      ]
    },
    {
      "cell_type": "code",
      "execution_count": null,
      "metadata": {
        "id": "68s8BsMfC-bd",
        "outputId": "c8f543de-81f2-4c25-abef-00a29227c558"
      },
      "outputs": [
        {
          "data": {
            "text/plain": [
              "[{1, 2, 3}, {1, 2, 5}, {1, 3, 5}, {1, 2, 3, 5}]"
            ]
          },
          "execution_count": 42,
          "metadata": {},
          "output_type": "execute_result"
        }
      ],
      "source": [
        "self_join_result"
      ]
    },
    {
      "cell_type": "code",
      "execution_count": null,
      "metadata": {
        "id": "DXTzTt3xC-bd",
        "outputId": "c9ba7714-de67-4c22-a7f4-968f915b453d"
      },
      "outputs": [
        {
          "name": "stdout",
          "output_type": "stream",
          "text": [
            "Subset from [1, 2, 3] : [{2, 3}, {1, 3}, {1, 2}]\n",
            "Subset from [1, 2, 5] : [{2, 5}, {1, 5}, {1, 2}]\n",
            "Subset from [1, 3, 5] : [{3, 5}, {1, 5}, {1, 3}]\n",
            "Subset from [1, 2, 3, 5] : [{2, 3, 5}, {1, 3, 5}, {1, 2, 5}, {1, 2, 3}]\n"
          ]
        }
      ],
      "source": [
        "for i in range(len(self_join_result)):\n",
        "    get_subset(list(self_join_result[i]))"
      ]
    },
    {
      "cell_type": "code",
      "execution_count": null,
      "metadata": {
        "id": "qKgrwQUyC-be",
        "outputId": "8fd9d23b-16e1-4c6a-9247-5dc855c1cdb1"
      },
      "outputs": [
        {
          "data": {
            "text/html": [
              "<div>\n",
              "<style scoped>\n",
              "    .dataframe tbody tr th:only-of-type {\n",
              "        vertical-align: middle;\n",
              "    }\n",
              "\n",
              "    .dataframe tbody tr th {\n",
              "        vertical-align: top;\n",
              "    }\n",
              "\n",
              "    .dataframe thead th {\n",
              "        text-align: right;\n",
              "    }\n",
              "</style>\n",
              "<table border=\"1\" class=\"dataframe\">\n",
              "  <thead>\n",
              "    <tr style=\"text-align: right;\">\n",
              "      <th></th>\n",
              "      <th>itemset</th>\n",
              "      <th>sup</th>\n",
              "    </tr>\n",
              "  </thead>\n",
              "  <tbody>\n",
              "    <tr>\n",
              "      <th>0</th>\n",
              "      <td>{1, 2}</td>\n",
              "      <td>5</td>\n",
              "    </tr>\n",
              "    <tr>\n",
              "      <th>1</th>\n",
              "      <td>{1, 3}</td>\n",
              "      <td>5</td>\n",
              "    </tr>\n",
              "    <tr>\n",
              "      <th>2</th>\n",
              "      <td>{1, 5}</td>\n",
              "      <td>3</td>\n",
              "    </tr>\n",
              "    <tr>\n",
              "      <th>3</th>\n",
              "      <td>{2, 3}</td>\n",
              "      <td>4</td>\n",
              "    </tr>\n",
              "  </tbody>\n",
              "</table>\n",
              "</div>"
            ],
            "text/plain": [
              "  itemset  sup\n",
              "0  {1, 2}    5\n",
              "1  {1, 3}    5\n",
              "2  {1, 5}    3\n",
              "3  {2, 3}    4"
            ]
          },
          "execution_count": 44,
          "metadata": {},
          "output_type": "execute_result"
        }
      ],
      "source": [
        "freq_itemset2_reset"
      ]
    },
    {
      "cell_type": "code",
      "execution_count": null,
      "metadata": {
        "id": "a4DB14JOC-be",
        "outputId": "d3d21c7f-7bca-44f5-864e-3b23360dedbe"
      },
      "outputs": [
        {
          "name": "stdout",
          "output_type": "stream",
          "text": [
            "{2, 3}\n",
            "Check True\n",
            "{1, 3}\n",
            "Check True\n",
            "{1, 2}\n",
            "Check True\n"
          ]
        }
      ],
      "source": [
        "for item in subset:\n",
        "    print(item)\n",
        "    check = item == freq_itemset2_reset['itemset']\n",
        "    print('Check', any(check))"
      ]
    },
    {
      "cell_type": "code",
      "execution_count": null,
      "metadata": {
        "id": "eJLT7GAwC-be",
        "outputId": "ee241a44-ee68-4c12-8a00-bdf30b4e99da"
      },
      "outputs": [
        {
          "data": {
            "text/plain": [
              "[{1, 2, 3}, {1, 2, 5}, {1, 3, 5}, {1, 2, 3, 5}]"
            ]
          },
          "execution_count": 46,
          "metadata": {},
          "output_type": "execute_result"
        }
      ],
      "source": [
        "self_join_result"
      ]
    },
    {
      "cell_type": "code",
      "execution_count": null,
      "metadata": {
        "scrolled": false,
        "id": "ZsiHFOAeC-bf",
        "outputId": "791ca7bc-c931-4c6f-d7bb-531657fe14c6"
      },
      "outputs": [
        {
          "name": "stdout",
          "output_type": "stream",
          "text": [
            "Candidate set [{1, 2, 3}, {1, 2, 5}, {1, 3, 5}, {1, 2, 3, 5}]\n",
            "Subset from [1, 2, 3] : [{2, 3}, {1, 3}, {1, 2}]\n",
            "Temp item {2, 3}\n",
            "\n",
            "Check candidate from Previous Frequent Itemset\n",
            " 0    False\n",
            "1    False\n",
            "2    False\n",
            "3     True\n",
            "Name: itemset, dtype: bool\n",
            "\n",
            "All of [{1, 2, 3}, {1, 2, 5}, {1, 3, 5}, {1, 2, 3, 5}] subset contained in \n",
            "  itemset  sup\n",
            "0  {1, 2}    5\n",
            "1  {1, 3}    5\n",
            "2  {1, 5}    3\n",
            "3  {2, 3}    4\n",
            "Temp item {1, 3}\n",
            "\n",
            "Check candidate from Previous Frequent Itemset\n",
            " 0    False\n",
            "1     True\n",
            "2    False\n",
            "3    False\n",
            "Name: itemset, dtype: bool\n",
            "\n",
            "All of [{1, 2, 3}, {1, 2, 5}, {1, 3, 5}, {1, 2, 3, 5}] subset contained in \n",
            "  itemset  sup\n",
            "0  {1, 2}    5\n",
            "1  {1, 3}    5\n",
            "2  {1, 5}    3\n",
            "3  {2, 3}    4\n",
            "Temp item {1, 2}\n",
            "\n",
            "Check candidate from Previous Frequent Itemset\n",
            " 0     True\n",
            "1    False\n",
            "2    False\n",
            "3    False\n",
            "Name: itemset, dtype: bool\n",
            "\n",
            "All of [{1, 2, 3}, {1, 2, 5}, {1, 3, 5}, {1, 2, 3, 5}] subset contained in \n",
            "  itemset  sup\n",
            "0  {1, 2}    5\n",
            "1  {1, 3}    5\n",
            "2  {1, 5}    3\n",
            "3  {2, 3}    4\n",
            "Subset from [1, 2, 5] : [{2, 5}, {1, 5}, {1, 2}]\n",
            "Temp item {2, 5}\n",
            "\n",
            "Check candidate from Previous Frequent Itemset\n",
            " 0    False\n",
            "1    False\n",
            "2    False\n",
            "3    False\n",
            "Name: itemset, dtype: bool\n",
            "False\n",
            "Val {1, 2, 5}\n",
            "Temp item {1, 5}\n",
            "\n",
            "Check candidate from Previous Frequent Itemset\n",
            " 0    False\n",
            "1    False\n",
            "2     True\n",
            "3    False\n",
            "Name: itemset, dtype: bool\n",
            "\n",
            "All of [{1, 2, 3}, {1, 2, 5}, {1, 3, 5}, {1, 2, 3, 5}] subset contained in \n",
            "  itemset  sup\n",
            "0  {1, 2}    5\n",
            "1  {1, 3}    5\n",
            "2  {1, 5}    3\n",
            "3  {2, 3}    4\n",
            "Temp item {1, 2}\n",
            "\n",
            "Check candidate from Previous Frequent Itemset\n",
            " 0     True\n",
            "1    False\n",
            "2    False\n",
            "3    False\n",
            "Name: itemset, dtype: bool\n",
            "\n",
            "All of [{1, 2, 3}, {1, 2, 5}, {1, 3, 5}, {1, 2, 3, 5}] subset contained in \n",
            "  itemset  sup\n",
            "0  {1, 2}    5\n",
            "1  {1, 3}    5\n",
            "2  {1, 5}    3\n",
            "3  {2, 3}    4\n",
            "Subset from [1, 3, 5] : [{3, 5}, {1, 5}, {1, 3}]\n",
            "Temp item {3, 5}\n",
            "\n",
            "Check candidate from Previous Frequent Itemset\n",
            " 0    False\n",
            "1    False\n",
            "2    False\n",
            "3    False\n",
            "Name: itemset, dtype: bool\n",
            "False\n",
            "Val {1, 3, 5}\n",
            "Temp item {1, 5}\n",
            "\n",
            "Check candidate from Previous Frequent Itemset\n",
            " 0    False\n",
            "1    False\n",
            "2     True\n",
            "3    False\n",
            "Name: itemset, dtype: bool\n",
            "\n",
            "All of [{1, 2, 3}, {1, 2, 5}, {1, 3, 5}, {1, 2, 3, 5}] subset contained in \n",
            "  itemset  sup\n",
            "0  {1, 2}    5\n",
            "1  {1, 3}    5\n",
            "2  {1, 5}    3\n",
            "3  {2, 3}    4\n",
            "Temp item {1, 3}\n",
            "\n",
            "Check candidate from Previous Frequent Itemset\n",
            " 0    False\n",
            "1     True\n",
            "2    False\n",
            "3    False\n",
            "Name: itemset, dtype: bool\n",
            "\n",
            "All of [{1, 2, 3}, {1, 2, 5}, {1, 3, 5}, {1, 2, 3, 5}] subset contained in \n",
            "  itemset  sup\n",
            "0  {1, 2}    5\n",
            "1  {1, 3}    5\n",
            "2  {1, 5}    3\n",
            "3  {2, 3}    4\n",
            "Subset from [1, 2, 3, 5] : [{2, 3, 5}, {1, 3, 5}, {1, 2, 5}, {1, 2, 3}]\n",
            "Temp item {2, 3, 5}\n",
            "\n",
            "Check candidate from Previous Frequent Itemset\n",
            " 0    False\n",
            "1    False\n",
            "2    False\n",
            "3    False\n",
            "Name: itemset, dtype: bool\n",
            "False\n",
            "Val {1, 2, 3, 5}\n",
            "Temp item {1, 3, 5}\n",
            "\n",
            "Check candidate from Previous Frequent Itemset\n",
            " 0    False\n",
            "1    False\n",
            "2    False\n",
            "3    False\n",
            "Name: itemset, dtype: bool\n",
            "False\n",
            "Val {1, 2, 3, 5}\n",
            "Temp item {1, 2, 5}\n",
            "\n",
            "Check candidate from Previous Frequent Itemset\n",
            " 0    False\n",
            "1    False\n",
            "2    False\n",
            "3    False\n",
            "Name: itemset, dtype: bool\n",
            "False\n",
            "Val {1, 2, 3, 5}\n",
            "Temp item {1, 2, 3}\n",
            "\n",
            "Check candidate from Previous Frequent Itemset\n",
            " 0    False\n",
            "1    False\n",
            "2    False\n",
            "3    False\n",
            "Name: itemset, dtype: bool\n",
            "False\n",
            "Val {1, 2, 3, 5}\n"
          ]
        }
      ],
      "source": [
        "candidate3_list = pruning(self_join_result, freq_itemset2_reset)"
      ]
    },
    {
      "cell_type": "code",
      "execution_count": null,
      "metadata": {
        "id": "MoT5VqdWC-bf",
        "outputId": "b1cc73b5-0118-4cfd-e161-52e1277c09ed"
      },
      "outputs": [
        {
          "data": {
            "text/plain": [
              "[{1, 2, 3}, {1, 2, 5}, {1, 3, 5}]"
            ]
          },
          "execution_count": 48,
          "metadata": {},
          "output_type": "execute_result"
        }
      ],
      "source": [
        "candidate3_list"
      ]
    },
    {
      "cell_type": "markdown",
      "metadata": {
        "id": "cWUvm8zQC-bf"
      },
      "source": [
        "<h2>Creating the Third Frequent Itemset (L3)</h2>"
      ]
    },
    {
      "cell_type": "code",
      "execution_count": null,
      "metadata": {
        "id": "wH6FFmmjC-bg",
        "outputId": "059fe4a6-81e8-495d-c7e2-7568e98149fa"
      },
      "outputs": [
        {
          "data": {
            "text/html": [
              "<div>\n",
              "<style scoped>\n",
              "    .dataframe tbody tr th:only-of-type {\n",
              "        vertical-align: middle;\n",
              "    }\n",
              "\n",
              "    .dataframe tbody tr th {\n",
              "        vertical-align: top;\n",
              "    }\n",
              "\n",
              "    .dataframe thead th {\n",
              "        text-align: right;\n",
              "    }\n",
              "</style>\n",
              "<table border=\"1\" class=\"dataframe\">\n",
              "  <thead>\n",
              "    <tr style=\"text-align: right;\">\n",
              "      <th></th>\n",
              "      <th>items</th>\n",
              "    </tr>\n",
              "  </thead>\n",
              "  <tbody>\n",
              "    <tr>\n",
              "      <th>0</th>\n",
              "      <td>[1, 2]</td>\n",
              "    </tr>\n",
              "    <tr>\n",
              "      <th>1</th>\n",
              "      <td>[1, 2, 3]</td>\n",
              "    </tr>\n",
              "    <tr>\n",
              "      <th>2</th>\n",
              "      <td>[1, 2, 3, 4]</td>\n",
              "    </tr>\n",
              "    <tr>\n",
              "      <th>3</th>\n",
              "      <td>[1, 2, 5]</td>\n",
              "    </tr>\n",
              "    <tr>\n",
              "      <th>4</th>\n",
              "      <td>[1, 3, 5]</td>\n",
              "    </tr>\n",
              "    <tr>\n",
              "      <th>5</th>\n",
              "      <td>[4, 5]</td>\n",
              "    </tr>\n",
              "    <tr>\n",
              "      <th>6</th>\n",
              "      <td>[1, 2, 3, 5]</td>\n",
              "    </tr>\n",
              "    <tr>\n",
              "      <th>7</th>\n",
              "      <td>[1, 3]</td>\n",
              "    </tr>\n",
              "    <tr>\n",
              "      <th>8</th>\n",
              "      <td>[1, 4]</td>\n",
              "    </tr>\n",
              "    <tr>\n",
              "      <th>9</th>\n",
              "      <td>[2, 3, 4]</td>\n",
              "    </tr>\n",
              "  </tbody>\n",
              "</table>\n",
              "</div>"
            ],
            "text/plain": [
              "          items\n",
              "0        [1, 2]\n",
              "1     [1, 2, 3]\n",
              "2  [1, 2, 3, 4]\n",
              "3     [1, 2, 5]\n",
              "4     [1, 3, 5]\n",
              "5        [4, 5]\n",
              "6  [1, 2, 3, 5]\n",
              "7        [1, 3]\n",
              "8        [1, 4]\n",
              "9     [2, 3, 4]"
            ]
          },
          "execution_count": 49,
          "metadata": {},
          "output_type": "execute_result"
        }
      ],
      "source": [
        "#Let's see the database again\n",
        "df"
      ]
    },
    {
      "cell_type": "code",
      "execution_count": null,
      "metadata": {
        "id": "_02ww_jdC-bg",
        "outputId": "b225cc0f-9751-4b6a-9705-6d6d69032e47"
      },
      "outputs": [
        {
          "data": {
            "text/plain": [
              "[{1, 2, 3}, {1, 2, 5}, {1, 3, 5}]"
            ]
          },
          "execution_count": 50,
          "metadata": {},
          "output_type": "execute_result"
        }
      ],
      "source": [
        "#Then check the newest candidate value\n",
        "candidate3_list"
      ]
    },
    {
      "cell_type": "code",
      "execution_count": null,
      "metadata": {
        "scrolled": false,
        "id": "suN-MxmyC-bg",
        "outputId": "43434f93-1236-485e-aa9b-3b4b0435421a"
      },
      "outputs": [
        {
          "name": "stdout",
          "output_type": "stream",
          "text": [
            "Database D dataframe\n",
            "           items\n",
            "0        [1, 2]\n",
            "1     [1, 2, 3]\n",
            "2  [1, 2, 3, 4]\n",
            "3     [1, 2, 5]\n",
            "4     [1, 3, 5]\n",
            "5        [4, 5]\n",
            "6  [1, 2, 3, 5]\n",
            "7        [1, 3]\n",
            "8        [1, 4]\n",
            "9     [2, 3, 4]\n",
            "(Initial) Dataframe from Candidate with All zeros sup\n",
            "      itemset  sup\n",
            "0  {1, 2, 3}    0\n",
            "1  {1, 2, 5}    0\n",
            "2  {1, 3, 5}    0\n"
          ]
        }
      ],
      "source": [
        "count_candidate3_df = count_support(df, candidate3_list)"
      ]
    },
    {
      "cell_type": "code",
      "execution_count": null,
      "metadata": {
        "id": "OI5ZAQoxC-bh",
        "outputId": "36b2d751-77ed-489e-c555-15485483cd05"
      },
      "outputs": [
        {
          "data": {
            "text/html": [
              "<div>\n",
              "<style scoped>\n",
              "    .dataframe tbody tr th:only-of-type {\n",
              "        vertical-align: middle;\n",
              "    }\n",
              "\n",
              "    .dataframe tbody tr th {\n",
              "        vertical-align: top;\n",
              "    }\n",
              "\n",
              "    .dataframe thead th {\n",
              "        text-align: right;\n",
              "    }\n",
              "</style>\n",
              "<table border=\"1\" class=\"dataframe\">\n",
              "  <thead>\n",
              "    <tr style=\"text-align: right;\">\n",
              "      <th></th>\n",
              "      <th>itemset</th>\n",
              "      <th>sup</th>\n",
              "    </tr>\n",
              "  </thead>\n",
              "  <tbody>\n",
              "    <tr>\n",
              "      <th>0</th>\n",
              "      <td>{1, 2, 3}</td>\n",
              "      <td>3</td>\n",
              "    </tr>\n",
              "    <tr>\n",
              "      <th>1</th>\n",
              "      <td>{1, 2, 5}</td>\n",
              "      <td>2</td>\n",
              "    </tr>\n",
              "    <tr>\n",
              "      <th>2</th>\n",
              "      <td>{1, 3, 5}</td>\n",
              "      <td>2</td>\n",
              "    </tr>\n",
              "  </tbody>\n",
              "</table>\n",
              "</div>"
            ],
            "text/plain": [
              "     itemset  sup\n",
              "0  {1, 2, 3}    3\n",
              "1  {1, 2, 5}    2\n",
              "2  {1, 3, 5}    2"
            ]
          },
          "execution_count": 52,
          "metadata": {},
          "output_type": "execute_result"
        }
      ],
      "source": [
        "count_candidate3_df"
      ]
    },
    {
      "cell_type": "code",
      "execution_count": null,
      "metadata": {
        "id": "aFZdAPvIC-bh"
      },
      "outputs": [],
      "source": [
        "freq_itemset3 = filter_sup(count_candidate3_df)"
      ]
    },
    {
      "cell_type": "code",
      "execution_count": null,
      "metadata": {
        "scrolled": true,
        "id": "7GwQtP5bC-bh",
        "outputId": "f4311c97-24ae-4447-a70f-8c6de9610057"
      },
      "outputs": [
        {
          "data": {
            "text/html": [
              "<div>\n",
              "<style scoped>\n",
              "    .dataframe tbody tr th:only-of-type {\n",
              "        vertical-align: middle;\n",
              "    }\n",
              "\n",
              "    .dataframe tbody tr th {\n",
              "        vertical-align: top;\n",
              "    }\n",
              "\n",
              "    .dataframe thead th {\n",
              "        text-align: right;\n",
              "    }\n",
              "</style>\n",
              "<table border=\"1\" class=\"dataframe\">\n",
              "  <thead>\n",
              "    <tr style=\"text-align: right;\">\n",
              "      <th></th>\n",
              "      <th>itemset</th>\n",
              "      <th>sup</th>\n",
              "    </tr>\n",
              "  </thead>\n",
              "  <tbody>\n",
              "    <tr>\n",
              "      <th>0</th>\n",
              "      <td>{1, 2, 3}</td>\n",
              "      <td>3</td>\n",
              "    </tr>\n",
              "  </tbody>\n",
              "</table>\n",
              "</div>"
            ],
            "text/plain": [
              "     itemset  sup\n",
              "0  {1, 2, 3}    3"
            ]
          },
          "execution_count": 110,
          "metadata": {},
          "output_type": "execute_result"
        }
      ],
      "source": [
        "freq_itemset3"
      ]
    },
    {
      "cell_type": "markdown",
      "metadata": {
        "id": "vjjiDnU7C-bi"
      },
      "source": [
        "## All Frequent Itemset"
      ]
    },
    {
      "cell_type": "code",
      "execution_count": null,
      "metadata": {
        "scrolled": true,
        "id": "Fj6Ci-E7C-bi",
        "outputId": "04de599c-21ea-429a-c590-66e640895c12"
      },
      "outputs": [
        {
          "data": {
            "text/html": [
              "<div>\n",
              "<style scoped>\n",
              "    .dataframe tbody tr th:only-of-type {\n",
              "        vertical-align: middle;\n",
              "    }\n",
              "\n",
              "    .dataframe tbody tr th {\n",
              "        vertical-align: top;\n",
              "    }\n",
              "\n",
              "    .dataframe thead th {\n",
              "        text-align: right;\n",
              "    }\n",
              "</style>\n",
              "<table border=\"1\" class=\"dataframe\">\n",
              "  <thead>\n",
              "    <tr style=\"text-align: right;\">\n",
              "      <th></th>\n",
              "      <th>itemset</th>\n",
              "      <th>sup</th>\n",
              "    </tr>\n",
              "  </thead>\n",
              "  <tbody>\n",
              "    <tr>\n",
              "      <th>0</th>\n",
              "      <td>1</td>\n",
              "      <td>8</td>\n",
              "    </tr>\n",
              "    <tr>\n",
              "      <th>1</th>\n",
              "      <td>2</td>\n",
              "      <td>6</td>\n",
              "    </tr>\n",
              "    <tr>\n",
              "      <th>2</th>\n",
              "      <td>3</td>\n",
              "      <td>6</td>\n",
              "    </tr>\n",
              "    <tr>\n",
              "      <th>3</th>\n",
              "      <td>4</td>\n",
              "      <td>4</td>\n",
              "    </tr>\n",
              "    <tr>\n",
              "      <th>4</th>\n",
              "      <td>5</td>\n",
              "      <td>4</td>\n",
              "    </tr>\n",
              "  </tbody>\n",
              "</table>\n",
              "</div>"
            ],
            "text/plain": [
              "   itemset  sup\n",
              "0        1    8\n",
              "1        2    6\n",
              "2        3    6\n",
              "3        4    4\n",
              "4        5    4"
            ]
          },
          "execution_count": 55,
          "metadata": {},
          "output_type": "execute_result"
        }
      ],
      "source": [
        "#Let'see each frequent itemset (L)\n",
        "freq_itemset1"
      ]
    },
    {
      "cell_type": "code",
      "execution_count": null,
      "metadata": {
        "scrolled": true,
        "id": "ymI1jb2-C-bi",
        "outputId": "60dbbdc7-1198-4888-e231-b4324cdd1c6d"
      },
      "outputs": [
        {
          "data": {
            "text/html": [
              "<div>\n",
              "<style scoped>\n",
              "    .dataframe tbody tr th:only-of-type {\n",
              "        vertical-align: middle;\n",
              "    }\n",
              "\n",
              "    .dataframe tbody tr th {\n",
              "        vertical-align: top;\n",
              "    }\n",
              "\n",
              "    .dataframe thead th {\n",
              "        text-align: right;\n",
              "    }\n",
              "</style>\n",
              "<table border=\"1\" class=\"dataframe\">\n",
              "  <thead>\n",
              "    <tr style=\"text-align: right;\">\n",
              "      <th></th>\n",
              "      <th>itemset</th>\n",
              "      <th>sup</th>\n",
              "    </tr>\n",
              "  </thead>\n",
              "  <tbody>\n",
              "    <tr>\n",
              "      <th>0</th>\n",
              "      <td>{1, 2}</td>\n",
              "      <td>5</td>\n",
              "    </tr>\n",
              "    <tr>\n",
              "      <th>1</th>\n",
              "      <td>{1, 3}</td>\n",
              "      <td>5</td>\n",
              "    </tr>\n",
              "    <tr>\n",
              "      <th>3</th>\n",
              "      <td>{1, 5}</td>\n",
              "      <td>3</td>\n",
              "    </tr>\n",
              "    <tr>\n",
              "      <th>4</th>\n",
              "      <td>{2, 3}</td>\n",
              "      <td>4</td>\n",
              "    </tr>\n",
              "  </tbody>\n",
              "</table>\n",
              "</div>"
            ],
            "text/plain": [
              "  itemset  sup\n",
              "0  {1, 2}    5\n",
              "1  {1, 3}    5\n",
              "3  {1, 5}    3\n",
              "4  {2, 3}    4"
            ]
          },
          "execution_count": 56,
          "metadata": {},
          "output_type": "execute_result"
        }
      ],
      "source": [
        "freq_itemset2"
      ]
    },
    {
      "cell_type": "code",
      "execution_count": null,
      "metadata": {
        "scrolled": true,
        "id": "66LF5m8RC-bj",
        "outputId": "3bdcf908-3950-4da9-92dc-668104d85953"
      },
      "outputs": [
        {
          "data": {
            "text/html": [
              "<div>\n",
              "<style scoped>\n",
              "    .dataframe tbody tr th:only-of-type {\n",
              "        vertical-align: middle;\n",
              "    }\n",
              "\n",
              "    .dataframe tbody tr th {\n",
              "        vertical-align: top;\n",
              "    }\n",
              "\n",
              "    .dataframe thead th {\n",
              "        text-align: right;\n",
              "    }\n",
              "</style>\n",
              "<table border=\"1\" class=\"dataframe\">\n",
              "  <thead>\n",
              "    <tr style=\"text-align: right;\">\n",
              "      <th></th>\n",
              "      <th>itemset</th>\n",
              "      <th>sup</th>\n",
              "    </tr>\n",
              "  </thead>\n",
              "  <tbody>\n",
              "    <tr>\n",
              "      <th>0</th>\n",
              "      <td>{1, 2, 3}</td>\n",
              "      <td>3</td>\n",
              "    </tr>\n",
              "  </tbody>\n",
              "</table>\n",
              "</div>"
            ],
            "text/plain": [
              "     itemset  sup\n",
              "0  {1, 2, 3}    3"
            ]
          },
          "execution_count": 57,
          "metadata": {},
          "output_type": "execute_result"
        }
      ],
      "source": [
        "freq_itemset3"
      ]
    },
    {
      "cell_type": "code",
      "execution_count": null,
      "metadata": {
        "id": "eZbCIDXUC-bj"
      },
      "outputs": [],
      "source": [
        "frequent_itemset = pd.concat([freq_itemset1, freq_itemset2, freq_itemset3], axis=0)"
      ]
    },
    {
      "cell_type": "code",
      "execution_count": null,
      "metadata": {
        "id": "aptPnK1SC-bj",
        "outputId": "fc8e91f4-e2a5-4c05-a148-455327ae740e"
      },
      "outputs": [
        {
          "data": {
            "text/html": [
              "<div>\n",
              "<style scoped>\n",
              "    .dataframe tbody tr th:only-of-type {\n",
              "        vertical-align: middle;\n",
              "    }\n",
              "\n",
              "    .dataframe tbody tr th {\n",
              "        vertical-align: top;\n",
              "    }\n",
              "\n",
              "    .dataframe thead th {\n",
              "        text-align: right;\n",
              "    }\n",
              "</style>\n",
              "<table border=\"1\" class=\"dataframe\">\n",
              "  <thead>\n",
              "    <tr style=\"text-align: right;\">\n",
              "      <th></th>\n",
              "      <th>itemset</th>\n",
              "      <th>sup</th>\n",
              "    </tr>\n",
              "  </thead>\n",
              "  <tbody>\n",
              "    <tr>\n",
              "      <th>0</th>\n",
              "      <td>1</td>\n",
              "      <td>8</td>\n",
              "    </tr>\n",
              "    <tr>\n",
              "      <th>1</th>\n",
              "      <td>2</td>\n",
              "      <td>6</td>\n",
              "    </tr>\n",
              "    <tr>\n",
              "      <th>2</th>\n",
              "      <td>3</td>\n",
              "      <td>6</td>\n",
              "    </tr>\n",
              "    <tr>\n",
              "      <th>3</th>\n",
              "      <td>4</td>\n",
              "      <td>4</td>\n",
              "    </tr>\n",
              "    <tr>\n",
              "      <th>4</th>\n",
              "      <td>5</td>\n",
              "      <td>4</td>\n",
              "    </tr>\n",
              "    <tr>\n",
              "      <th>0</th>\n",
              "      <td>{1, 2}</td>\n",
              "      <td>5</td>\n",
              "    </tr>\n",
              "    <tr>\n",
              "      <th>1</th>\n",
              "      <td>{1, 3}</td>\n",
              "      <td>5</td>\n",
              "    </tr>\n",
              "    <tr>\n",
              "      <th>3</th>\n",
              "      <td>{1, 5}</td>\n",
              "      <td>3</td>\n",
              "    </tr>\n",
              "    <tr>\n",
              "      <th>4</th>\n",
              "      <td>{2, 3}</td>\n",
              "      <td>4</td>\n",
              "    </tr>\n",
              "    <tr>\n",
              "      <th>0</th>\n",
              "      <td>{1, 2, 3}</td>\n",
              "      <td>3</td>\n",
              "    </tr>\n",
              "  </tbody>\n",
              "</table>\n",
              "</div>"
            ],
            "text/plain": [
              "     itemset  sup\n",
              "0          1    8\n",
              "1          2    6\n",
              "2          3    6\n",
              "3          4    4\n",
              "4          5    4\n",
              "0     {1, 2}    5\n",
              "1     {1, 3}    5\n",
              "3     {1, 5}    3\n",
              "4     {2, 3}    4\n",
              "0  {1, 2, 3}    3"
            ]
          },
          "execution_count": 114,
          "metadata": {},
          "output_type": "execute_result"
        }
      ],
      "source": [
        "frequent_itemset"
      ]
    },
    {
      "cell_type": "code",
      "execution_count": null,
      "metadata": {
        "id": "SXz5-6CtC-bk"
      },
      "outputs": [],
      "source": [
        "#Reset the index\n",
        "frequent_itemset_final = frequent_itemset.reset_index(drop=True)"
      ]
    },
    {
      "cell_type": "markdown",
      "metadata": {
        "id": "ZVaVLOY_C-bk"
      },
      "source": [
        "## Final Output of Freq. Itemset (L1-L3)"
      ]
    },
    {
      "cell_type": "code",
      "execution_count": null,
      "metadata": {
        "id": "2NSLeTb4C-bk",
        "outputId": "e2de1409-e9a9-4a82-d96c-4f788eb61251"
      },
      "outputs": [
        {
          "data": {
            "text/html": [
              "<div>\n",
              "<style scoped>\n",
              "    .dataframe tbody tr th:only-of-type {\n",
              "        vertical-align: middle;\n",
              "    }\n",
              "\n",
              "    .dataframe tbody tr th {\n",
              "        vertical-align: top;\n",
              "    }\n",
              "\n",
              "    .dataframe thead th {\n",
              "        text-align: right;\n",
              "    }\n",
              "</style>\n",
              "<table border=\"1\" class=\"dataframe\">\n",
              "  <thead>\n",
              "    <tr style=\"text-align: right;\">\n",
              "      <th></th>\n",
              "      <th>itemset</th>\n",
              "      <th>sup</th>\n",
              "    </tr>\n",
              "  </thead>\n",
              "  <tbody>\n",
              "    <tr>\n",
              "      <th>0</th>\n",
              "      <td>1</td>\n",
              "      <td>8</td>\n",
              "    </tr>\n",
              "    <tr>\n",
              "      <th>1</th>\n",
              "      <td>2</td>\n",
              "      <td>6</td>\n",
              "    </tr>\n",
              "    <tr>\n",
              "      <th>2</th>\n",
              "      <td>3</td>\n",
              "      <td>6</td>\n",
              "    </tr>\n",
              "    <tr>\n",
              "      <th>3</th>\n",
              "      <td>4</td>\n",
              "      <td>4</td>\n",
              "    </tr>\n",
              "    <tr>\n",
              "      <th>4</th>\n",
              "      <td>5</td>\n",
              "      <td>4</td>\n",
              "    </tr>\n",
              "    <tr>\n",
              "      <th>5</th>\n",
              "      <td>{1, 2}</td>\n",
              "      <td>5</td>\n",
              "    </tr>\n",
              "    <tr>\n",
              "      <th>6</th>\n",
              "      <td>{1, 3}</td>\n",
              "      <td>5</td>\n",
              "    </tr>\n",
              "    <tr>\n",
              "      <th>7</th>\n",
              "      <td>{1, 5}</td>\n",
              "      <td>3</td>\n",
              "    </tr>\n",
              "    <tr>\n",
              "      <th>8</th>\n",
              "      <td>{2, 3}</td>\n",
              "      <td>4</td>\n",
              "    </tr>\n",
              "    <tr>\n",
              "      <th>9</th>\n",
              "      <td>{1, 2, 3}</td>\n",
              "      <td>3</td>\n",
              "    </tr>\n",
              "  </tbody>\n",
              "</table>\n",
              "</div>"
            ],
            "text/plain": [
              "     itemset  sup\n",
              "0          1    8\n",
              "1          2    6\n",
              "2          3    6\n",
              "3          4    4\n",
              "4          5    4\n",
              "5     {1, 2}    5\n",
              "6     {1, 3}    5\n",
              "7     {1, 5}    3\n",
              "8     {2, 3}    4\n",
              "9  {1, 2, 3}    3"
            ]
          },
          "execution_count": 61,
          "metadata": {},
          "output_type": "execute_result"
        }
      ],
      "source": [
        "frequent_itemset_final"
      ]
    },
    {
      "cell_type": "code",
      "execution_count": null,
      "metadata": {
        "id": "nWtMDEoxC-bk"
      },
      "outputs": [],
      "source": []
    }
  ],
  "metadata": {
    "kernelspec": {
      "display_name": "Python 3",
      "language": "python",
      "name": "python3"
    },
    "language_info": {
      "codemirror_mode": {
        "name": "ipython",
        "version": 3
      },
      "file_extension": ".py",
      "mimetype": "text/x-python",
      "name": "python",
      "nbconvert_exporter": "python",
      "pygments_lexer": "ipython3",
      "version": "3.6.5"
    },
    "colab": {
      "provenance": [],
      "include_colab_link": true
    }
  },
  "nbformat": 4,
  "nbformat_minor": 0
}
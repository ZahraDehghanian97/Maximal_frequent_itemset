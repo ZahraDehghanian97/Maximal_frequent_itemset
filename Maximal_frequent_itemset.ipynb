{
  "cells": [
    {
      "cell_type": "markdown",
      "metadata": {
        "id": "view-in-github",
        "colab_type": "text"
      },
      "source": [
        "<a href=\"https://colab.research.google.com/github/zahraDehghanian97/Apriori/blob/master/Maximal_frequent_itemset.ipynb\" target=\"_parent\"><img src=\"https://colab.research.google.com/assets/colab-badge.svg\" alt=\"Open In Colab\"/></a>"
      ]
    },
    {
      "cell_type": "markdown",
      "source": [
        "# generate dataset\n",
        "\n",
        "100 basket , 100 item\n",
        "each basket contains item which number is divisible to it."
      ],
      "metadata": {
        "id": "rMWhC9V1DBRJ"
      }
    },
    {
      "cell_type": "code",
      "execution_count": 15,
      "metadata": {
        "id": "CQayShGeC-bG"
      },
      "outputs": [],
      "source": [
        "import pandas as pd\n",
        "\n",
        "dataset = []\n",
        "for i in range(1,101):\n",
        "  temp = []\n",
        "  for j in range(1,i+1):\n",
        "    if i%j == 0 : temp.append(j)\n",
        "  dataset.append(temp)\n"
      ]
    },
    {
      "cell_type": "markdown",
      "source": [
        "# FP-growth"
      ],
      "metadata": {
        "id": "FP_TL1o8ISKF"
      }
    },
    {
      "cell_type": "code",
      "source": [
        "!pip install pyfpgrowth"
      ],
      "metadata": {
        "colab": {
          "base_uri": "https://localhost:8080/"
        },
        "id": "CvPa5k2qIivz",
        "outputId": "9291d5ca-6500-448c-e5dc-ecaa08568d77"
      },
      "execution_count": 25,
      "outputs": [
        {
          "output_type": "stream",
          "name": "stdout",
          "text": [
            "Looking in indexes: https://pypi.org/simple, https://us-python.pkg.dev/colab-wheels/public/simple/\n",
            "Collecting pyfpgrowth\n",
            "  Downloading pyfpgrowth-1.0.tar.gz (1.6 MB)\n",
            "\u001b[K     |████████████████████████████████| 1.6 MB 5.0 MB/s \n",
            "\u001b[?25hBuilding wheels for collected packages: pyfpgrowth\n",
            "  Building wheel for pyfpgrowth (setup.py) ... \u001b[?25l\u001b[?25hdone\n",
            "  Created wheel for pyfpgrowth: filename=pyfpgrowth-1.0-py2.py3-none-any.whl size=5505 sha256=2a2d9cad975006955d31fdfbb53e2005c1282865f2059d95d2a4966f4ef2a3ae\n",
            "  Stored in directory: /root/.cache/pip/wheels/29/e2/a7/ccb34c35e2c6737d3f09b53784f4323b7ff556a5f02096c70d\n",
            "Successfully built pyfpgrowth\n",
            "Installing collected packages: pyfpgrowth\n",
            "Successfully installed pyfpgrowth-1.0\n"
          ]
        }
      ]
    },
    {
      "cell_type": "code",
      "source": [
        "import pandas as pd\n",
        "import numpy as np\n",
        "import pyfpgrowth\n",
        "patterns = pyfpgrowth.find_frequent_patterns(dataset, 5)\n",
        "freq_itemset = []\n",
        "list_keys = list(patterns.keys())\n",
        "for i in range(len(list_keys)):\n",
        "  freq_itemset.append(list(list_keys[i]))\n",
        "support = list(patterns.values())\n",
        "\n",
        "frequent = pd.DataFrame({'itemsets' : freq_itemset,\n",
        "    'support' : support})\n",
        "frequent"
      ],
      "metadata": {
        "colab": {
          "base_uri": "https://localhost:8080/",
          "height": 424
        },
        "id": "a8NSpoB3LBRo",
        "outputId": "2547bfea-b727-454c-ed7e-df2115446d48"
      },
      "execution_count": 48,
      "outputs": [
        {
          "output_type": "execute_result",
          "data": {
            "text/plain": [
              "      itemsets  support\n",
              "0         [17]        5\n",
              "1      [1, 17]        5\n",
              "2         [18]        5\n",
              "3      [9, 18]        5\n",
              "4      [6, 18]        5\n",
              "..         ...      ...\n",
              "215     [2, 3]       16\n",
              "216  [1, 2, 3]       16\n",
              "217        [2]       50\n",
              "218     [1, 2]       50\n",
              "219        [1]      100\n",
              "\n",
              "[220 rows x 2 columns]"
            ],
            "text/html": [
              "\n",
              "  <div id=\"df-f81a0e42-dea2-42b7-8b5a-84d9ad91da71\">\n",
              "    <div class=\"colab-df-container\">\n",
              "      <div>\n",
              "<style scoped>\n",
              "    .dataframe tbody tr th:only-of-type {\n",
              "        vertical-align: middle;\n",
              "    }\n",
              "\n",
              "    .dataframe tbody tr th {\n",
              "        vertical-align: top;\n",
              "    }\n",
              "\n",
              "    .dataframe thead th {\n",
              "        text-align: right;\n",
              "    }\n",
              "</style>\n",
              "<table border=\"1\" class=\"dataframe\">\n",
              "  <thead>\n",
              "    <tr style=\"text-align: right;\">\n",
              "      <th></th>\n",
              "      <th>itemsets</th>\n",
              "      <th>support</th>\n",
              "    </tr>\n",
              "  </thead>\n",
              "  <tbody>\n",
              "    <tr>\n",
              "      <th>0</th>\n",
              "      <td>[17]</td>\n",
              "      <td>5</td>\n",
              "    </tr>\n",
              "    <tr>\n",
              "      <th>1</th>\n",
              "      <td>[1, 17]</td>\n",
              "      <td>5</td>\n",
              "    </tr>\n",
              "    <tr>\n",
              "      <th>2</th>\n",
              "      <td>[18]</td>\n",
              "      <td>5</td>\n",
              "    </tr>\n",
              "    <tr>\n",
              "      <th>3</th>\n",
              "      <td>[9, 18]</td>\n",
              "      <td>5</td>\n",
              "    </tr>\n",
              "    <tr>\n",
              "      <th>4</th>\n",
              "      <td>[6, 18]</td>\n",
              "      <td>5</td>\n",
              "    </tr>\n",
              "    <tr>\n",
              "      <th>...</th>\n",
              "      <td>...</td>\n",
              "      <td>...</td>\n",
              "    </tr>\n",
              "    <tr>\n",
              "      <th>215</th>\n",
              "      <td>[2, 3]</td>\n",
              "      <td>16</td>\n",
              "    </tr>\n",
              "    <tr>\n",
              "      <th>216</th>\n",
              "      <td>[1, 2, 3]</td>\n",
              "      <td>16</td>\n",
              "    </tr>\n",
              "    <tr>\n",
              "      <th>217</th>\n",
              "      <td>[2]</td>\n",
              "      <td>50</td>\n",
              "    </tr>\n",
              "    <tr>\n",
              "      <th>218</th>\n",
              "      <td>[1, 2]</td>\n",
              "      <td>50</td>\n",
              "    </tr>\n",
              "    <tr>\n",
              "      <th>219</th>\n",
              "      <td>[1]</td>\n",
              "      <td>100</td>\n",
              "    </tr>\n",
              "  </tbody>\n",
              "</table>\n",
              "<p>220 rows × 2 columns</p>\n",
              "</div>\n",
              "      <button class=\"colab-df-convert\" onclick=\"convertToInteractive('df-f81a0e42-dea2-42b7-8b5a-84d9ad91da71')\"\n",
              "              title=\"Convert this dataframe to an interactive table.\"\n",
              "              style=\"display:none;\">\n",
              "        \n",
              "  <svg xmlns=\"http://www.w3.org/2000/svg\" height=\"24px\"viewBox=\"0 0 24 24\"\n",
              "       width=\"24px\">\n",
              "    <path d=\"M0 0h24v24H0V0z\" fill=\"none\"/>\n",
              "    <path d=\"M18.56 5.44l.94 2.06.94-2.06 2.06-.94-2.06-.94-.94-2.06-.94 2.06-2.06.94zm-11 1L8.5 8.5l.94-2.06 2.06-.94-2.06-.94L8.5 2.5l-.94 2.06-2.06.94zm10 10l.94 2.06.94-2.06 2.06-.94-2.06-.94-.94-2.06-.94 2.06-2.06.94z\"/><path d=\"M17.41 7.96l-1.37-1.37c-.4-.4-.92-.59-1.43-.59-.52 0-1.04.2-1.43.59L10.3 9.45l-7.72 7.72c-.78.78-.78 2.05 0 2.83L4 21.41c.39.39.9.59 1.41.59.51 0 1.02-.2 1.41-.59l7.78-7.78 2.81-2.81c.8-.78.8-2.07 0-2.86zM5.41 20L4 18.59l7.72-7.72 1.47 1.35L5.41 20z\"/>\n",
              "  </svg>\n",
              "      </button>\n",
              "      \n",
              "  <style>\n",
              "    .colab-df-container {\n",
              "      display:flex;\n",
              "      flex-wrap:wrap;\n",
              "      gap: 12px;\n",
              "    }\n",
              "\n",
              "    .colab-df-convert {\n",
              "      background-color: #E8F0FE;\n",
              "      border: none;\n",
              "      border-radius: 50%;\n",
              "      cursor: pointer;\n",
              "      display: none;\n",
              "      fill: #1967D2;\n",
              "      height: 32px;\n",
              "      padding: 0 0 0 0;\n",
              "      width: 32px;\n",
              "    }\n",
              "\n",
              "    .colab-df-convert:hover {\n",
              "      background-color: #E2EBFA;\n",
              "      box-shadow: 0px 1px 2px rgba(60, 64, 67, 0.3), 0px 1px 3px 1px rgba(60, 64, 67, 0.15);\n",
              "      fill: #174EA6;\n",
              "    }\n",
              "\n",
              "    [theme=dark] .colab-df-convert {\n",
              "      background-color: #3B4455;\n",
              "      fill: #D2E3FC;\n",
              "    }\n",
              "\n",
              "    [theme=dark] .colab-df-convert:hover {\n",
              "      background-color: #434B5C;\n",
              "      box-shadow: 0px 1px 3px 1px rgba(0, 0, 0, 0.15);\n",
              "      filter: drop-shadow(0px 1px 2px rgba(0, 0, 0, 0.3));\n",
              "      fill: #FFFFFF;\n",
              "    }\n",
              "  </style>\n",
              "\n",
              "      <script>\n",
              "        const buttonEl =\n",
              "          document.querySelector('#df-f81a0e42-dea2-42b7-8b5a-84d9ad91da71 button.colab-df-convert');\n",
              "        buttonEl.style.display =\n",
              "          google.colab.kernel.accessAllowed ? 'block' : 'none';\n",
              "\n",
              "        async function convertToInteractive(key) {\n",
              "          const element = document.querySelector('#df-f81a0e42-dea2-42b7-8b5a-84d9ad91da71');\n",
              "          const dataTable =\n",
              "            await google.colab.kernel.invokeFunction('convertToInteractive',\n",
              "                                                     [key], {});\n",
              "          if (!dataTable) return;\n",
              "\n",
              "          const docLinkHtml = 'Like what you see? Visit the ' +\n",
              "            '<a target=\"_blank\" href=https://colab.research.google.com/notebooks/data_table.ipynb>data table notebook</a>'\n",
              "            + ' to learn more about interactive tables.';\n",
              "          element.innerHTML = '';\n",
              "          dataTable['output_type'] = 'display_data';\n",
              "          await google.colab.output.renderOutput(dataTable, element);\n",
              "          const docLink = document.createElement('div');\n",
              "          docLink.innerHTML = docLinkHtml;\n",
              "          element.appendChild(docLink);\n",
              "        }\n",
              "      </script>\n",
              "    </div>\n",
              "  </div>\n",
              "  "
            ]
          },
          "metadata": {},
          "execution_count": 48
        }
      ]
    },
    {
      "cell_type": "markdown",
      "source": [
        "# closed set"
      ],
      "metadata": {
        "id": "nVNJsD_OeLuf"
      }
    },
    {
      "cell_type": "code",
      "source": [
        "su = frequent.support.unique()#all unique support count\n",
        "#Dictionay itemset with same support count key\n",
        "fredic = {}\n",
        "for i in range(len(su)):\n",
        "    inset = list(frequent.loc[frequent.support ==su[i]]['itemsets'])\n",
        "    fredic[su[i]] = inset\n",
        "#Dictionay itemset with  support count <= key\n",
        "fredic2 = {}\n",
        "for i in range(len(su)):\n",
        "    inset2 = list(frequent.loc[frequent.support<=su[i]]['itemsets'])\n",
        "    fredic2[su[i]] = inset2\n",
        "#Find Closed frequent itemset\n",
        "cl = []\n",
        "for index, row in frequent.iterrows():\n",
        "    isclose = True\n",
        "    cli = row['itemsets']\n",
        "    cls = row['support']\n",
        "    checkset = fredic[cls]\n",
        "    for i in checkset:\n",
        "        if (cli!=i):\n",
        "            if(set(cli).issubset(set(i))):\n",
        "                isclose = False\n",
        "                break\n",
        "    \n",
        "    if(isclose):\n",
        "        cl.append(row['itemsets'])\n",
        "print(cl)"
      ],
      "metadata": {
        "colab": {
          "base_uri": "https://localhost:8080/"
        },
        "id": "1O16jkROeJAU",
        "outputId": "d19f850e-2122-47af-ab9d-960e54bf2089"
      },
      "execution_count": 53,
      "outputs": [
        {
          "output_type": "stream",
          "name": "stdout",
          "text": [
            "[[1, 17], [1, 2, 3, 6, 9, 18], [1, 19], [1, 2, 4, 5, 10, 20], [1, 3, 5, 15], [1, 2, 4, 8, 16], [1, 13], [1, 2, 7, 14], [1, 2, 3, 4, 6, 12], [1, 11], [1, 2, 5, 10], [1, 3, 9], [1, 2, 4, 8], [1, 7], [1, 2, 3, 6], [1, 5], [1, 2, 4], [1, 3], [1, 2], [1]]\n"
          ]
        }
      ]
    },
    {
      "cell_type": "markdown",
      "source": [
        "# Maximal set"
      ],
      "metadata": {
        "id": "M7iWRC1XeRF4"
      }
    },
    {
      "cell_type": "code",
      "source": [
        "#Find Max frequent itemset\n",
        "ml = []\n",
        "for index, row in frequent.iterrows():\n",
        "    isclose = True\n",
        "    cli = row['itemsets']\n",
        "    cls = row['support']\n",
        "    checkset = fredic2[cls]\n",
        "    for i in checkset:\n",
        "        if (cli!=i):\n",
        "            if(set(cli).issubset(set(i))):\n",
        "                isclose = False\n",
        "                break\n",
        "    \n",
        "    if(isclose):\n",
        "        ml.append(row['itemsets'])\n",
        "print(ml)"
      ],
      "metadata": {
        "colab": {
          "base_uri": "https://localhost:8080/"
        },
        "id": "fwStZf4HIUgu",
        "outputId": "5c08cf3e-20e4-494b-aee0-08ef4d1b8307"
      },
      "execution_count": 54,
      "outputs": [
        {
          "output_type": "stream",
          "name": "stdout",
          "text": [
            "[[1, 17], [1, 2, 3, 6, 9, 18], [1, 19], [1, 2, 4, 5, 10, 20], [1, 3, 5, 15], [1, 2, 4, 8, 16], [1, 13], [1, 2, 7, 14], [1, 2, 3, 4, 6, 12], [1, 11]]\n"
          ]
        }
      ]
    }
  ],
  "metadata": {
    "kernelspec": {
      "display_name": "Python 3",
      "language": "python",
      "name": "python3"
    },
    "language_info": {
      "codemirror_mode": {
        "name": "ipython",
        "version": 3
      },
      "file_extension": ".py",
      "mimetype": "text/x-python",
      "name": "python",
      "nbconvert_exporter": "python",
      "pygments_lexer": "ipython3",
      "version": "3.6.5"
    },
    "colab": {
      "provenance": [],
      "collapsed_sections": [
        "ByDjcq31C-bV",
        "D2FdtfKrC-bb",
        "Ps26-3rOC-bb",
        "3ZCLSmABC-bc",
        "vjjiDnU7C-bi",
        "ZVaVLOY_C-bk"
      ],
      "include_colab_link": true
    }
  },
  "nbformat": 4,
  "nbformat_minor": 0
}